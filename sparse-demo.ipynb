{
  "nbformat": 4,
  "nbformat_minor": 0,
  "metadata": {
    "kernelspec": {
      "display_name": "Python 3",
      "language": "python",
      "name": "python3"
    },
    "language_info": {
      "codemirror_mode": {
        "name": "ipython",
        "version": 3
      },
      "file_extension": ".py",
      "mimetype": "text/x-python",
      "name": "python",
      "nbconvert_exporter": "python",
      "pygments_lexer": "ipython3",
      "version": "3.7.7"
    },
    "colab": {
      "name": "sparse-demo.ipynb",
      "provenance": [],
      "include_colab_link": true
    }
  },
  "cells": [
    {
      "cell_type": "markdown",
      "metadata": {
        "id": "view-in-github",
        "colab_type": "text"
      },
      "source": [
        "<a href=\"https://colab.research.google.com/github/evcu/micrograd/blob/sparse/sparse-demo.ipynb\" target=\"_parent\"><img src=\"https://colab.research.google.com/assets/colab-badge.svg\" alt=\"Open In Colab\"/></a>"
      ]
    },
    {
      "cell_type": "markdown",
      "metadata": {
        "id": "T0iHxfYDfNuB",
        "colab_type": "text"
      },
      "source": [
        "# Sparse Networks with MicroGrad\n",
        "O lala, time passes fast under quarantine. It has been almost 3 weeks since Andrej Karparty shared his super light-weight autograd library and me getting exciting about it. Roughly 2 years ago I had a similar mini-project and wrote about it [here](https://evcu.github.io/ml/autograd/). After seeing Micrograd and its simplicity I decided to spend some time on it. \n",
        "\n",
        "Andrej's implementation works on pure python and the speed is not a concern. I thought maybe we can accelerate it using sparsity :P. Just kidding...\n",
        "\n",
        "I realized how easy it would be to implement sparse networks if the building blocks are neurons. It litteraly took me few hours to implement sparse networks and **RigL** algorithm. I think this is a great demonstration of the power of changing abstractions. The abstractions and tools we have influences our work/research greatly and maybe what we need is a paradigm shift to enable the next big jump in AI. I would vote for neurons as the future building blocks of Neural Networks. But arguing about this is not the goal of this notebook.\n",
        "\n",
        "### Plan\n",
        "- Checkout Andrej's implementation of `Value` [here](https://github.com/evcu/micrograd/blob/sparse/micrograd/engine.py). This is the building block of the learning algorithm and it is the simplest autograd engine I've seen.\n",
        "- Checkout the [demo](https://github.com/evcu/micrograd/blob/sparse/demo.ipynb). At the end of this notebook, we would do the same experiment using sparse networks. \n",
        "- We implement Sparse network (SparseMLP) which uses the SparseLayer which uses the SparseNeuron. \n",
        "- Finally we will train our network on a binary classification task. We will observe the failure of regular sparse training and we see how RigL can be used to improve performance considerably.\n"
      ]
    },
    {
      "cell_type": "code",
      "metadata": {
        "id": "aahQQjpxfNuD",
        "colab_type": "code",
        "colab": {
          "base_uri": "https://localhost:8080/",
          "height": 456
        },
        "cellView": "both",
        "outputId": "fc7a6601-be2b-46e0-baee-659f2160c99f"
      },
      "source": [
        "#@title Imports\n",
        "from functools import partial\n",
        "import math\n",
        "import random\n",
        "import numpy as np\n",
        "import matplotlib.pyplot as plt\n",
        "from sklearn.datasets import make_moons, make_blobs\n",
        "%matplotlib inline\n",
        "!rm -rf g_micrograd micrograd\n",
        "!git clone --single-branch --branch sparse https://github.com/evcu/micrograd.git g_micrograd\n",
        "!mv g_micrograd/micrograd ./\n",
        "from micrograd.engine import Value\n",
        "from micrograd.nn import Module\n",
        "np.random.seed(1337)\n",
        "random.seed(1337)\n",
        "# make up a dataset\n",
        "from graphviz import Digraph\n",
        "\n",
        "def draw_topology(model, format='svg', rankdir='LR'):\n",
        "    \"\"\"\n",
        "    format: png | svg | ...\n",
        "    rankdir: TB (top to bottom graph) | LR (left to right)\n",
        "    \"\"\"\n",
        "    assert rankdir in ['LR', 'TB']\n",
        "    dot = Digraph(format=format, graph_attr={'rankdir': rankdir}) #, node_attr={'rankdir': 'TB'})\n",
        "    with dot.subgraph(name=f'cluster_inp') as c:\n",
        "      c.node(name='0_1', label = '0_1' , shape='record')\n",
        "      c.node(name='0_0', label = '0_0' , shape='record')\n",
        "    for i, layer in enumerate(model.layers):\n",
        "      for j, neuron in enumerate(layer.neurons):\n",
        "        with dot.subgraph(name=f'cluster_{i}') as c:\n",
        "          c_node = f'{i+1}_{j}'\n",
        "          c.node(name=c_node, label = c_node , shape='record')\n",
        "          for incoming_neuron_id in neuron.w.keys():\n",
        "            from_node = f'{i}_{incoming_neuron_id}'\n",
        "            c.edge(from_node, c_node)\n",
        "    \n",
        "    return dot\n",
        "\n",
        "X, y = make_moons(n_samples=100, noise=0.1)\n",
        "\n",
        "y = y*2 - 1 # make y be -1 or 1\n",
        "# visualize in 2D\n",
        "plt.figure(figsize=(5,5))\n",
        "plt.scatter(X[:,0], X[:,1], c=y, s=20, cmap='jet')"
      ],
      "execution_count": 60,
      "outputs": [
        {
          "output_type": "stream",
          "text": [
            "Cloning into 'g_micrograd'...\n",
            "remote: Enumerating objects: 149, done.\u001b[K\n",
            "remote: Counting objects: 100% (149/149), done.\u001b[K\n",
            "remote: Compressing objects: 100% (94/94), done.\u001b[K\n",
            "remote: Total 149 (delta 76), reused 119 (delta 47), pack-reused 0\u001b[K\n",
            "Receiving objects: 100% (149/149), 312.40 KiB | 589.00 KiB/s, done.\n",
            "Resolving deltas: 100% (76/76), done.\n"
          ],
          "name": "stdout"
        },
        {
          "output_type": "execute_result",
          "data": {
            "text/plain": [
              "<matplotlib.collections.PathCollection at 0x7f6cb92b9a58>"
            ]
          },
          "metadata": {
            "tags": []
          },
          "execution_count": 60
        },
        {
          "output_type": "display_data",
          "data": {
            "image/png": "[encoded data removed]",
            "text/plain": [
              "<Figure size 360x360 with 1 Axes>"
            ]
          },
          "metadata": {
            "tags": [],
            "needs_background": "light"
          }
        }
      ]
    },
    {
      "cell_type": "markdown",
      "metadata": {
        "id": "hHTEUt-j78An",
        "colab_type": "text"
      },
      "source": [
        "### Defining Sparse Network\n",
        "Neurons in a layer usually connects to the every neuron in the previous layer. This is because how we define them. We call such networks **dense** (although I would argue they are sparse, too since they are not connecting bunch of other neurons in other layers.). \n",
        "\n",
        "On the other hand sparse networks connect to only a fraction of the neurons in the previous layers and the sparsity of a neuron can be defined as the fraction of neurons it *doesn't* connect. So number of connections in a sparse neuron would be defined by,\n",
        "\n",
        "$$\\#connections = \\lfloor(1 - sparsity) * \\#input\\_neurons\\rfloor$$\n",
        "\n",
        "Below, we share the implementation of `SparseNeuron`. It calculates number of connections as defined above and holds the weights in a dictionary `self.w` using the index of the input neurons as keys.\n",
        "\n",
        "RigL algorithm, sometimes need to calculate the gradient of the non-existing connections. In order to do that we define `self.zero_ws` which are populated if the `dense_grad=True`. "
      ]
    },
    {
      "cell_type": "code",
      "metadata": {
        "id": "UARDQvq5fNuM",
        "colab_type": "code",
        "colab": {}
      },
      "source": [
        "class SparseNeuron(Module):\n",
        "\n",
        "    def __init__(self, nin, sparsity, nonlin=True):\n",
        "        assert 0 <= sparsity < 1\n",
        "        n_weights = math.ceil((1 - sparsity) * nin)\n",
        "        w_indices = random.sample(range(n_weights), k=n_weights)\n",
        "        self.w = {i: Value(random.uniform(-0.1, 0.1)) for i in w_indices}\n",
        "        self.b = Value(0)\n",
        "        self.nonlin = nonlin\n",
        "        self.zero_ws = {}\n",
        "\n",
        "    def __call__(self, x, dense_grad=False):\n",
        "        if dense_grad:\n",
        "            # We need to calculate all gradients therefore introduce zeros.\n",
        "            self.zero_ws = {}\n",
        "            results = []\n",
        "            for i, xi in enumerate(x):\n",
        "                if i in self.w:\n",
        "                    results.append(self.w[i]*xi)\n",
        "                else:\n",
        "                    self.zero_ws[i] = Value(0)\n",
        "                    results.append(self.zero_ws[i]*xi)\n",
        "\n",
        "            act = sum(results, self.b)\n",
        "            return act.relu() if self.nonlin else act\n",
        "        else:\n",
        "            act = sum((wi*x[i] for i, wi in self.w.items()), self.b)\n",
        "            return act.relu() if self.nonlin else act        \n",
        "    \n",
        "    def parameters(self):\n",
        "        return list(self.w.values()) + [self.b]\n",
        "\n",
        "    def __repr__(self):\n",
        "        return f\"{'ReLU' if self.nonlin else 'Linear'}Neuron({len(self.w)})\""
      ],
      "execution_count": 0,
      "outputs": []
    },
    {
      "cell_type": "markdown",
      "metadata": {
        "id": "WzZDAxIz_gAf",
        "colab_type": "text"
      },
      "source": [
        "### Defining Larger Building Blocks and Loss\n",
        "Next we define `SparseLayer`, `SparseMLP` and the `loss` function. Nothing special here expect the regular neurons are replaced by sparse neurons. `SparseMLP` expects the list of sparsities in addition to the hidden layer sizes."
      ]
    },
    {
      "cell_type": "code",
      "metadata": {
        "id": "PVE6AJqm_jH1",
        "colab_type": "code",
        "colab": {},
        "cellView": "both"
      },
      "source": [
        "#@title Hidden Code\n",
        "class SparseLayer(Module):\n",
        "\n",
        "    def __init__(self, nin, nout, sparsity=0, **kwargs):\n",
        "        self.neurons = [SparseNeuron(nin, sparsity, **kwargs) for _ in range(nout)]\n",
        "\n",
        "    def __call__(self, x, dense_grad=False):\n",
        "        out = [n(x, dense_grad=dense_grad) for n in self.neurons]\n",
        "        return out[0] if len(out) == 1 else out\n",
        "\n",
        "    def parameters(self):\n",
        "        return [p for n in self.neurons for p in n.parameters()]\n",
        "\n",
        "    def __repr__(self):\n",
        "        return f\"Layer of [{', '.join(str(n) for n in self.neurons)}]\"\n",
        "\n",
        "class SparseMLP(Module):\n",
        "\n",
        "    def __init__(self, nin, nouts, sparsities):\n",
        "        sz = [nin] + nouts\n",
        "        self.layers = [SparseLayer(sz[i], sz[i+1], sparsity=sparsities[i],\n",
        "                                   nonlin=i!=len(nouts)-1) for i in range(len(nouts))]\n",
        "\n",
        "    def __call__(self, x, dense_grad=False):\n",
        "        for layer in self.layers:\n",
        "            x = layer(x, dense_grad=dense_grad)\n",
        "        return x\n",
        "\n",
        "    def parameters(self):\n",
        "        return [p for layer in self.layers for p in layer.parameters()]\n",
        "\n",
        "    def __repr__(self):\n",
        "        main_str = '\\n'.join(str(layer) for layer in self.layers)\n",
        "        return f\"MLP of [\\n{main_str}\\n]\"\n",
        "\n",
        "# loss function\n",
        "def loss(model, batch_size=None, dense_grad=False):\n",
        "    \n",
        "    # inline DataLoader :)\n",
        "    if batch_size is None:\n",
        "        Xb, yb = X, y\n",
        "    else:\n",
        "        ri = np.random.permutation(X.shape[0])[:batch_size]\n",
        "        Xb, yb = X[ri], y[ri]\n",
        "    inputs = [list(map(Value, xrow)) for xrow in Xb]\n",
        "    \n",
        "    # forward the model to get scores\n",
        "    scores = list(map(partial(model, dense_grad=dense_grad), inputs))\n",
        "    \n",
        "    # svm \"max-margin\" loss\n",
        "    losses = [(1 + -yi*scorei).relu() for yi, scorei in zip(yb, scores)]\n",
        "    data_loss = sum(losses) * (1.0 / len(losses))\n",
        "    # L2 regularization\n",
        "    alpha = 1e-4\n",
        "    reg_loss = alpha * sum((p*p for p in model.parameters()))\n",
        "    total_loss = data_loss + reg_loss\n",
        "    \n",
        "    # also get accuracy\n",
        "    accuracy = [(yi > 0) == (scorei.data > 0) for yi, scorei in zip(yb, scores)]\n",
        "    return total_loss, sum(accuracy) / len(accuracy)"
      ],
      "execution_count": 0,
      "outputs": []
    },
    {
      "cell_type": "markdown",
      "metadata": {
        "id": "s7gt8I3pEVQs",
        "colab_type": "text"
      },
      "source": [
        "# Our Sparse Network\n",
        "Here we create a sparse network. Note that there is only 2 input dimensions and we would like first set of neurons (input layer) to use both of the input dimensions. Therefore we set the sparsity to 0 for the first layer. Last layer also has a single output neuron, therefore we set its sparsity to a lower value than the middle layer. \n",
        "\n",
        "These sparsities are selected arbitrarily, feel free to play with them.\n",
        "\n",
        "Let's create this model and train it."
      ]
    },
    {
      "cell_type": "code",
      "metadata": {
        "id": "4-Tu1GyoEZrl",
        "colab_type": "code",
        "colab": {
          "base_uri": "https://localhost:8080/",
          "height": 139
        },
        "outputId": "b21c4665-a81e-43f8-a278-9fe362176386"
      },
      "source": [
        "model = SparseMLP(nin=2, nouts=[16, 16, 1], sparsities=[0.,0.9,0.8]) # 2-layer neural network\n",
        "print(model)\n",
        "print(\"number of parameters\", len(model.parameters()))"
      ],
      "execution_count": 4,
      "outputs": [
        {
          "output_type": "stream",
          "text": [
            "MLP of [\n",
            "Layer of [ReLUNeuron(2), ReLUNeuron(2), ReLUNeuron(2), ReLUNeuron(2), ReLUNeuron(2), ReLUNeuron(2), ReLUNeuron(2), ReLUNeuron(2), ReLUNeuron(2), ReLUNeuron(2), ReLUNeuron(2), ReLUNeuron(2), ReLUNeuron(2), ReLUNeuron(2), ReLUNeuron(2), ReLUNeuron(2)]\n",
            "Layer of [ReLUNeuron(2), ReLUNeuron(2), ReLUNeuron(2), ReLUNeuron(2), ReLUNeuron(2), ReLUNeuron(2), ReLUNeuron(2), ReLUNeuron(2), ReLUNeuron(2), ReLUNeuron(2), ReLUNeuron(2), ReLUNeuron(2), ReLUNeuron(2), ReLUNeuron(2), ReLUNeuron(2), ReLUNeuron(2)]\n",
            "Layer of [LinearNeuron(4)]\n",
            "]\n",
            "number of parameters 101\n"
          ],
          "name": "stdout"
        }
      ]
    },
    {
      "cell_type": "code",
      "metadata": {
        "id": "5X9ts1fIAWFs",
        "colab_type": "code",
        "colab": {
          "base_uri": "https://localhost:8080/",
          "height": 697
        },
        "outputId": "11973888-a220-499b-c3bd-5a42542a38ad"
      },
      "source": [
        "# initialize a model \n",
        "TRAIN_STEPS = 400\n",
        "for k in range(TRAIN_STEPS):\n",
        "    \n",
        "    # forward\n",
        "    total_loss, acc = loss(model)\n",
        "    \n",
        "    # backward\n",
        "    model.zero_grad()\n",
        "    total_loss.backward()\n",
        "    \n",
        "    # update (sgd)\n",
        "    learning_rate = 1 - 0.9*k/TRAIN_STEPS\n",
        "    for p in model.parameters():\n",
        "        p.data -= learning_rate * p.grad\n",
        "\n",
        "    if k % 10 == 0:\n",
        "        print(f\"step {k} loss {total_loss.data}, accuracy {acc*100}%\")\n",
        "#         if k != 0: rigl_update_model(model, update_fraction=learning_rate*0.4)"
      ],
      "execution_count": 5,
      "outputs": [
        {
          "output_type": "stream",
          "text": [
            "step 0 loss 0.9999118995994747, accuracy 50.0%\n",
            "step 10 loss 0.9981380971256504, accuracy 50.0%\n",
            "step 20 loss 0.9501034046836242, accuracy 50.0%\n",
            "step 30 loss 0.34453648720850755, accuracy 84.0%\n",
            "step 40 loss 0.3029776283757716, accuracy 87.0%\n",
            "step 50 loss 0.2980826584695032, accuracy 86.0%\n",
            "step 60 loss 0.297169433748757, accuracy 87.0%\n",
            "step 70 loss 0.2942492381308472, accuracy 87.0%\n",
            "step 80 loss 0.29289542954897096, accuracy 88.0%\n",
            "step 90 loss 0.2993178674853222, accuracy 86.0%\n",
            "step 100 loss 0.29319214906726115, accuracy 87.0%\n",
            "step 110 loss 0.29165963128836864, accuracy 88.0%\n",
            "step 120 loss 0.29898489310285087, accuracy 88.0%\n",
            "step 130 loss 0.2965474580488071, accuracy 88.0%\n",
            "step 140 loss 0.2911950144271783, accuracy 87.0%\n",
            "step 150 loss 0.2917794437912028, accuracy 88.0%\n",
            "step 160 loss 0.290663155309295, accuracy 88.0%\n",
            "step 170 loss 0.2909071924956825, accuracy 87.0%\n",
            "step 180 loss 0.2899413473514984, accuracy 88.0%\n",
            "step 190 loss 0.2897315971156385, accuracy 88.0%\n",
            "step 200 loss 0.2901118129872142, accuracy 88.0%\n",
            "step 210 loss 0.28928315960283324, accuracy 87.0%\n",
            "step 220 loss 0.2897383548597769, accuracy 88.0%\n",
            "step 230 loss 0.28903341270098554, accuracy 87.0%\n",
            "step 240 loss 0.2893019004620619, accuracy 88.0%\n",
            "step 250 loss 0.28896403456983577, accuracy 87.0%\n",
            "step 260 loss 0.28861587547215356, accuracy 87.0%\n",
            "step 270 loss 0.2885268375006881, accuracy 88.0%\n",
            "step 280 loss 0.2881950427716645, accuracy 88.0%\n",
            "step 290 loss 0.2878565797515368, accuracy 88.0%\n",
            "step 300 loss 0.28796501931513896, accuracy 87.0%\n",
            "step 310 loss 0.2879210101299614, accuracy 88.0%\n",
            "step 320 loss 0.2873767223675113, accuracy 88.0%\n",
            "step 330 loss 0.2871842866589242, accuracy 88.0%\n",
            "step 340 loss 0.28752147018854746, accuracy 88.0%\n",
            "step 350 loss 0.28727087052206074, accuracy 88.0%\n",
            "step 360 loss 0.28687039533784287, accuracy 88.0%\n",
            "step 370 loss 0.2869557032247059, accuracy 88.0%\n",
            "step 380 loss 0.28676645061703515, accuracy 88.0%\n",
            "step 390 loss 0.2866061808918473, accuracy 88.0%\n"
          ],
          "name": "stdout"
        }
      ]
    },
    {
      "cell_type": "markdown",
      "metadata": {
        "id": "LJ5o084EV0kQ",
        "colab_type": "text"
      },
      "source": [
        "# Difficulty of Training Sparse Networks.\n",
        "Sparse training is difficult. This has been by many, but probably popularized by the [Lottery Ticket Hypothesis](https://arxiv.org/abs/1803.03635) work of Jonathan. [RigL](https://arxiv.org/abs/1911.11134) is one of the recent dynamic training algoritms along with the others ([SNFS](https://arxiv.org/abs/1907.04840), [SET](https://www.nature.com/articles/s41467-018-04316-3), [DSR](https://arxiv.org/abs/1902.05967)). RigL improves the training of sparse networks by changing how the neurons are wired during the training.\n",
        "\n",
        "RigL takes the model as input and updates its connections and give better results than static training:\n",
        "\n",
        "1) Calculating dense gradient, which enables us to obtain the gradient of non-existing connectons using `SparseNeuron.zero_ws`.\n",
        "\n",
        "2) For each layer obtain existing and candidate parameters. \n",
        "\n",
        "3) If no parameters to update, skip this layer.\n",
        "\n",
        "4) Obtain candidate connections with highest gradient magnitude.\n",
        "\n",
        "5) Obtain existing connections with lowest magnitude.\n",
        "\n",
        "6) Replace least magnitude connections with new ones with high expected gradient."
      ]
    },
    {
      "cell_type": "code",
      "metadata": {
        "id": "EYh4y0E6fNug",
        "colab_type": "code",
        "colab": {}
      },
      "source": [
        "from micrograd.rigl import top_k_param_dict     \n",
        "            \n",
        "def rigl_update_layer(model, update_fraction=0.3):\n",
        "    # (1) Calculating dense gradient\n",
        "    total_loss, acc = loss(model, dense_grad=True)\n",
        "    model.zero_grad()\n",
        "    total_loss.backward()\n",
        "    \n",
        "    for layer in model.layers:\n",
        "        n_weights = 0\n",
        "        # (2) For each layer obtain existing and candidate parameters.\n",
        "        candidate_params, params = [], []\n",
        "        for j, neuron in enumerate(layer.neurons):\n",
        "            n_weights += len(neuron.w)\n",
        "            # Decide connections to grow (pick top gradient magnitude).\n",
        "            candidate_params.extend([(p, i, j)  for i, p in neuron.zero_ws.items()])\n",
        "            params.extend([(p, i, j)  for i, p in neuron.w.items()])\n",
        "            # Done with zero_ws delete them.\n",
        "            neuron.zero_ws = {}       \n",
        "\n",
        "        # (3) If no parameters to update, skip this layer\n",
        "        n_update = math.floor(n_weights * update_fraction)\n",
        "        if n_update == 0:\n",
        "            # Not updating\n",
        "            continue\n",
        "\n",
        "        # (4) Obtain candidate connections with highest gradient magnitude.\n",
        "        top_grad_fn = lambda p: abs(p.grad)\n",
        "        top_k_candidate_params = top_k_param_dict(candidate_params, n_update, sort_fn=top_grad_fn)\n",
        "        # (5) Obtain existing connections with lowest magnitude.\n",
        "        least_magnutide_fn = lambda p: -abs(p.data)\n",
        "        bottom_k_params = top_k_param_dict(params, n_update, sort_fn=least_magnutide_fn)\n",
        "        # (6) Replace least magnitude connections with new ones with high expected gradient.\n",
        "        for (p, i, j), (_, i_new, j_new) in zip(bottom_k_params, top_k_candidate_params):\n",
        "            del layer.neurons[j].w[i]\n",
        "            p.data = 0.\n",
        "            layer.neurons[j_new].w[i_new] = p"
      ],
      "execution_count": 0,
      "outputs": []
    },
    {
      "cell_type": "code",
      "metadata": {
        "id": "rzZhpKyjfNuj",
        "colab_type": "code",
        "colab": {
          "base_uri": "https://localhost:8080/",
          "height": 139
        },
        "outputId": "6f8a2117-3799-421c-e312-91764dd30f90"
      },
      "source": [
        "model = SparseMLP(2, [16, 16, 1], [0.,0.9,0.8]) # 2-layer neural network\n",
        "print(model)\n",
        "print(\"number of parameters\", len(model.parameters()))"
      ],
      "execution_count": 11,
      "outputs": [
        {
          "output_type": "stream",
          "text": [
            "MLP of [\n",
            "Layer of [ReLUNeuron(2), ReLUNeuron(2), ReLUNeuron(2), ReLUNeuron(2), ReLUNeuron(2), ReLUNeuron(2), ReLUNeuron(2), ReLUNeuron(2), ReLUNeuron(2), ReLUNeuron(2), ReLUNeuron(2), ReLUNeuron(2), ReLUNeuron(2), ReLUNeuron(2), ReLUNeuron(2), ReLUNeuron(2)]\n",
            "Layer of [ReLUNeuron(2), ReLUNeuron(2), ReLUNeuron(2), ReLUNeuron(2), ReLUNeuron(2), ReLUNeuron(2), ReLUNeuron(2), ReLUNeuron(2), ReLUNeuron(2), ReLUNeuron(2), ReLUNeuron(2), ReLUNeuron(2), ReLUNeuron(2), ReLUNeuron(2), ReLUNeuron(2), ReLUNeuron(2)]\n",
            "Layer of [LinearNeuron(4)]\n",
            "]\n",
            "number of parameters 101\n"
          ],
          "name": "stdout"
        }
      ]
    },
    {
      "cell_type": "code",
      "metadata": {
        "id": "n7vpqGuKfNuo",
        "colab_type": "code",
        "colab": {
          "base_uri": "https://localhost:8080/",
          "height": 357
        },
        "outputId": "b1b28dad-e4c3-4894-f83a-49a8d93cd77c"
      },
      "source": [
        "N_TOTAL = 400\n",
        "for k in range(N_TOTAL):    \n",
        "    # forward\n",
        "    total_loss, acc = loss(model)\n",
        "    \n",
        "    # backward\n",
        "    model.zero_grad()\n",
        "    total_loss.backward()\n",
        "    \n",
        "    # update (sgd)\n",
        "    learning_rate = 1 - 0.9*k/N_TOTAL\n",
        "    for p in model.parameters():\n",
        "        p.data -= learning_rate * p.grad\n",
        "\n",
        "    if k % 20 == 0:\n",
        "        print(f\"step {k} loss {total_loss.data}, accuracy {acc*100}%\")\n",
        "        if k != 0: rigl_update_layer(model, update_fraction=learning_rate*0.3)"
      ],
      "execution_count": 12,
      "outputs": [
        {
          "output_type": "stream",
          "text": [
            "step 0 loss 1.000185340800264, accuracy 50.0%\n",
            "step 20 loss 1.0000247787859653, accuracy 50.0%\n",
            "step 40 loss 0.9991200007834673, accuracy 50.0%\n",
            "step 60 loss 0.7091450592453743, accuracy 78.0%\n",
            "step 80 loss 0.30385757572424815, accuracy 88.0%\n",
            "step 100 loss 0.29292423978820137, accuracy 88.0%\n",
            "step 120 loss 0.28632497924001526, accuracy 88.0%\n",
            "step 140 loss 0.27520343814922665, accuracy 88.0%\n",
            "step 160 loss 0.26269736298373525, accuracy 91.0%\n",
            "step 180 loss 0.2527041394329461, accuracy 91.0%\n",
            "step 200 loss 0.2540496974883568, accuracy 88.0%\n",
            "step 220 loss 0.23501524204846372, accuracy 94.0%\n",
            "step 240 loss 0.1787286562837729, accuracy 95.0%\n",
            "step 260 loss 0.17342138614845073, accuracy 95.0%\n",
            "step 280 loss 0.14046384336892412, accuracy 96.0%\n",
            "step 300 loss 0.10436106541511325, accuracy 97.0%\n",
            "step 320 loss 0.036430076519194395, accuracy 100.0%\n",
            "step 340 loss 0.02380740335333028, accuracy 99.0%\n",
            "step 360 loss 0.013557414988397493, accuracy 100.0%\n",
            "step 380 loss 0.005128080893568523, accuracy 100.0%\n"
          ],
          "name": "stdout"
        }
      ]
    },
    {
      "cell_type": "markdown",
      "metadata": {
        "id": "2Cf23tTSatQm",
        "colab_type": "text"
      },
      "source": [
        "## Results\n",
        "RigL obtains 0.005 loss with 100% acc (vs 0.28 with 88% acc). Printing the model again reveals the connectivity of the network. We see that the available connections are used by few important neurons and many neurons are discarded.\n",
        "\n",
        "For example below neurons `2_15` and `2_0` has the most of the connections of the second layer. Other active neurons (`2_3` and `2_5`) has only 2 and 1 connections respectively. All the remaining neurons are dead, whic means they don't have any incoming or outgoing connections, therefore they can't affect the output. We can safely remove such dead units. Let's do that.\n"
      ]
    },
    {
      "cell_type": "code",
      "metadata": {
        "id": "LGul2vUUc2I1",
        "colab_type": "code",
        "colab": {
          "base_uri": "https://localhost:8080/",
          "height": 436
        },
        "outputId": "76a13fc7-e518-4d8f-a0d1-1d59c0a24cc2"
      },
      "source": [
        "draw_topology(model, rankdir='TB')"
      ],
      "execution_count": 62,
      "outputs": [
        {
          "output_type": "execute_result",
          "data": {
            "text/plain": [
              "<graphviz.dot.Digraph at 0x7f6cb8e3f4e0>"
            ],
            "image/svg+xml": "<?xml version=\"1.0\" encoding=\"UTF-8\" standalone=\"no\"?>\n<!DOCTYPE svg PUBLIC \"-//W3C//DTD SVG 1.1//EN\"\n \"http://www.w3.org/Graphics/SVG/1.1/DTD/svg11.dtd\">\n<!-- Generated by graphviz version 2.40.1 (20161225.0304)\n -->\n<!-- Title: %3 Pages: 1 -->\n<svg width=\"1822pt\" height=\"296pt\"\n viewBox=\"0.00 0.00 1822.00 296.00\" xmlns=\"http://www.w3.org/2000/svg\" xmlns:xlink=\"http://www.w3.org/1999/xlink\">\n<g id=\"graph0\" class=\"graph\" transform=\"scale(1 1) rotate(0) translate(4 292)\">\n<title>%3</title>\n<polygon fill=\"#ffffff\" stroke=\"transparent\" points=\"-4,4 -4,-292 1818,-292 1818,4 -4,4\"/>\n<g id=\"clust1\" class=\"cluster\">\n<title>cluster_inp</title>\n<polygon fill=\"none\" stroke=\"#000000\" points=\"1160,-227 1160,-280 1302,-280 1302,-227 1160,-227\"/>\n</g>\n<g id=\"clust2\" class=\"cluster\">\n<title>cluster_0</title>\n<polygon fill=\"none\" stroke=\"#000000\" points=\"656,-154 656,-207 1806,-207 1806,-154 656,-154\"/>\n</g>\n<g id=\"clust3\" class=\"cluster\">\n<title>cluster_1</title>\n<polygon fill=\"none\" stroke=\"#000000\" points=\"8,-81 8,-134 1158,-134 1158,-81 8,-81\"/>\n</g>\n<g id=\"clust4\" class=\"cluster\">\n<title>cluster_2</title>\n<polygon fill=\"none\" stroke=\"#000000\" points=\"836,-8 836,-61 906,-61 906,-8 836,-8\"/>\n</g>\n<!-- 0_1 -->\n<g id=\"node1\" class=\"node\">\n<title>0_1</title>\n<polygon fill=\"none\" stroke=\"#000000\" points=\"1240,-235.5 1240,-271.5 1294,-271.5 1294,-235.5 1240,-235.5\"/>\n<text text-anchor=\"middle\" x=\"1267\" y=\"-249.8\" font-family=\"Times,serif\" font-size=\"14.00\" fill=\"#000000\">0_1</text>\n</g>\n<!-- 1_0 -->\n<g id=\"node3\" class=\"node\">\n<title>1_0</title>\n<polygon fill=\"none\" stroke=\"#000000\" points=\"736,-162.5 736,-198.5 790,-198.5 790,-162.5 736,-162.5\"/>\n<text text-anchor=\"middle\" x=\"763\" y=\"-176.8\" font-family=\"Times,serif\" font-size=\"14.00\" fill=\"#000000\">1_0</text>\n</g>\n<!-- 0_1&#45;&gt;1_0 -->\n<g id=\"edge1\" class=\"edge\">\n<title>0_1&#45;&gt;1_0</title>\n<path fill=\"none\" stroke=\"#000000\" d=\"M1246.4935,-235.27C1241.7052,-231.9406 1236.4134,-228.9174 1231,-227 1140.4117,-194.914 889.5883,-239.086 799,-207 796.8008,-206.2211 794.6217,-205.2596 792.4882,-204.1693\"/>\n<polygon fill=\"#000000\" stroke=\"#000000\" points=\"793.8733,-200.9164 783.5065,-198.73 790.2472,-206.904 793.8733,-200.9164\"/>\n</g>\n<!-- 1_1 -->\n<g id=\"node4\" class=\"node\">\n<title>1_1</title>\n<polygon fill=\"none\" stroke=\"#000000\" points=\"664,-162.5 664,-198.5 718,-198.5 718,-162.5 664,-162.5\"/>\n<text text-anchor=\"middle\" x=\"691\" y=\"-176.8\" font-family=\"Times,serif\" font-size=\"14.00\" fill=\"#000000\">1_1</text>\n</g>\n<!-- 0_1&#45;&gt;1_1 -->\n<g id=\"edge4\" class=\"edge\">\n<title>0_1&#45;&gt;1_1</title>\n<path fill=\"none\" stroke=\"#000000\" d=\"M1246.503,-235.2429C1241.7142,-231.9152 1236.4197,-228.8995 1231,-227 1125.2207,-189.9259 832.7793,-244.0741 727,-207 724.7982,-206.2283 722.6172,-205.2724 720.4822,-204.1863\"/>\n<polygon fill=\"#000000\" stroke=\"#000000\" points=\"721.866,-200.9331 711.497,-198.7571 718.2459,-206.9243 721.866,-200.9331\"/>\n</g>\n<!-- 1_2 -->\n<g id=\"node5\" class=\"node\">\n<title>1_2</title>\n<polygon fill=\"none\" stroke=\"#000000\" points=\"1456,-162.5 1456,-198.5 1510,-198.5 1510,-162.5 1456,-162.5\"/>\n<text text-anchor=\"middle\" x=\"1483\" y=\"-176.8\" font-family=\"Times,serif\" font-size=\"14.00\" fill=\"#000000\">1_2</text>\n</g>\n<!-- 0_1&#45;&gt;1_2 -->\n<g id=\"edge5\" class=\"edge\">\n<title>0_1&#45;&gt;1_2</title>\n<path fill=\"none\" stroke=\"#000000\" d=\"M1294.0258,-249.8108C1330.2298,-244.1459 1395.8402,-231.3154 1447,-207 1448.7874,-206.1505 1450.5759,-205.2073 1452.3475,-204.1975\"/>\n<polygon fill=\"#000000\" stroke=\"#000000\" points=\"1454.4136,-207.0317 1460.9823,-198.7189 1450.6633,-201.121 1454.4136,-207.0317\"/>\n</g>\n<!-- 1_3 -->\n<g id=\"node6\" class=\"node\">\n<title>1_3</title>\n<polygon fill=\"none\" stroke=\"#000000\" points=\"1384,-162.5 1384,-198.5 1438,-198.5 1438,-162.5 1384,-162.5\"/>\n<text text-anchor=\"middle\" x=\"1411\" y=\"-176.8\" font-family=\"Times,serif\" font-size=\"14.00\" fill=\"#000000\">1_3</text>\n</g>\n<!-- 0_1&#45;&gt;1_3 -->\n<g id=\"edge8\" class=\"edge\">\n<title>0_1&#45;&gt;1_3</title>\n<path fill=\"none\" stroke=\"#000000\" d=\"M1294.0004,-243.849C1316.3552,-235.3987 1348.612,-222.1284 1375,-207 1376.4812,-206.1508 1377.9737,-205.2519 1379.4646,-204.318\"/>\n<polygon fill=\"#000000\" stroke=\"#000000\" points=\"1381.5216,-207.1531 1387.8964,-198.6907 1377.6357,-201.3307 1381.5216,-207.1531\"/>\n</g>\n<!-- 1_4 -->\n<g id=\"node7\" class=\"node\">\n<title>1_4</title>\n<polygon fill=\"none\" stroke=\"#000000\" points=\"1096,-162.5 1096,-198.5 1150,-198.5 1150,-162.5 1096,-162.5\"/>\n<text text-anchor=\"middle\" x=\"1123\" y=\"-176.8\" font-family=\"Times,serif\" font-size=\"14.00\" fill=\"#000000\">1_4</text>\n</g>\n<!-- 0_1&#45;&gt;1_4 -->\n<g id=\"edge9\" class=\"edge\">\n<title>0_1&#45;&gt;1_4</title>\n<path fill=\"none\" stroke=\"#000000\" d=\"M1244.9487,-235.3509C1240.5101,-232.2604 1235.7456,-229.3085 1231,-227 1201.1345,-212.4719 1188.8655,-221.5281 1159,-207 1157.2204,-206.1343 1155.4381,-205.1782 1153.6714,-204.1581\"/>\n<polygon fill=\"#000000\" stroke=\"#000000\" points=\"1155.3623,-201.0851 1145.0513,-198.6491 1151.5927,-206.9834 1155.3623,-201.0851\"/>\n</g>\n<!-- 1_5 -->\n<g id=\"node8\" class=\"node\">\n<title>1_5</title>\n<polygon fill=\"none\" stroke=\"#000000\" points=\"1744,-162.5 1744,-198.5 1798,-198.5 1798,-162.5 1744,-162.5\"/>\n<text text-anchor=\"middle\" x=\"1771\" y=\"-176.8\" font-family=\"Times,serif\" font-size=\"14.00\" fill=\"#000000\">1_5</text>\n</g>\n<!-- 0_1&#45;&gt;1_5 -->\n<g id=\"edge12\" class=\"edge\">\n<title>0_1&#45;&gt;1_5</title>\n<path fill=\"none\" stroke=\"#000000\" d=\"M1294.0719,-252.6858C1381.2056,-249.7744 1653.4458,-238.3314 1735,-207 1737.1779,-206.1633 1739.3407,-205.1577 1741.462,-204.0343\"/>\n<polygon fill=\"#000000\" stroke=\"#000000\" points=\"1743.739,-206.7422 1750.4139,-198.5144 1740.065,-200.7839 1743.739,-206.7422\"/>\n</g>\n<!-- 1_6 -->\n<g id=\"node9\" class=\"node\">\n<title>1_6</title>\n<polygon fill=\"none\" stroke=\"#000000\" points=\"1024,-162.5 1024,-198.5 1078,-198.5 1078,-162.5 1024,-162.5\"/>\n<text text-anchor=\"middle\" x=\"1051\" y=\"-176.8\" font-family=\"Times,serif\" font-size=\"14.00\" fill=\"#000000\">1_6</text>\n</g>\n<!-- 0_1&#45;&gt;1_6 -->\n<g id=\"edge13\" class=\"edge\">\n<title>0_1&#45;&gt;1_6</title>\n<path fill=\"none\" stroke=\"#000000\" d=\"M1245.963,-235.372C1241.2882,-232.1223 1236.176,-229.1051 1231,-227 1171.1466,-202.6569 1146.8534,-231.3431 1087,-207 1084.8972,-206.1448 1082.805,-205.139 1080.7484,-204.0283\"/>\n<polygon fill=\"#000000\" stroke=\"#000000\" points=\"1082.3805,-200.9222 1072.037,-198.628 1078.6922,-206.8717 1082.3805,-200.9222\"/>\n</g>\n<!-- 1_7 -->\n<g id=\"node10\" class=\"node\">\n<title>1_7</title>\n<polygon fill=\"none\" stroke=\"#000000\" points=\"1168,-162.5 1168,-198.5 1222,-198.5 1222,-162.5 1168,-162.5\"/>\n<text text-anchor=\"middle\" x=\"1195\" y=\"-176.8\" font-family=\"Times,serif\" font-size=\"14.00\" fill=\"#000000\">1_7</text>\n</g>\n<!-- 0_1&#45;&gt;1_7 -->\n<g id=\"edge15\" class=\"edge\">\n<title>0_1&#45;&gt;1_7</title>\n<path fill=\"none\" stroke=\"#000000\" d=\"M1249.2022,-235.4551C1240.3752,-226.5054 1229.5669,-215.547 1219.9307,-205.7769\"/>\n<polygon fill=\"#000000\" stroke=\"#000000\" points=\"1222.3566,-203.2523 1212.8425,-198.5904 1217.3728,-208.1678 1222.3566,-203.2523\"/>\n</g>\n<!-- 1_8 -->\n<g id=\"node11\" class=\"node\">\n<title>1_8</title>\n<polygon fill=\"none\" stroke=\"#000000\" points=\"952,-162.5 952,-198.5 1006,-198.5 1006,-162.5 952,-162.5\"/>\n<text text-anchor=\"middle\" x=\"979\" y=\"-176.8\" font-family=\"Times,serif\" font-size=\"14.00\" fill=\"#000000\">1_8</text>\n</g>\n<!-- 0_1&#45;&gt;1_8 -->\n<g id=\"edge18\" class=\"edge\">\n<title>0_1&#45;&gt;1_8</title>\n<path fill=\"none\" stroke=\"#000000\" d=\"M1246.4243,-235.4583C1241.6404,-232.1171 1236.3678,-229.0416 1231,-227 1140.887,-192.7267 1105.113,-241.2733 1015,-207 1012.8193,-206.1706 1010.6544,-205.1706 1008.5315,-204.0514\"/>\n<polygon fill=\"#000000\" stroke=\"#000000\" points=\"1009.9269,-200.8006 999.5757,-198.5417 1006.259,-206.7627 1009.9269,-200.8006\"/>\n</g>\n<!-- 1_9 -->\n<g id=\"node12\" class=\"node\">\n<title>1_9</title>\n<polygon fill=\"none\" stroke=\"#000000\" points=\"1672,-162.5 1672,-198.5 1726,-198.5 1726,-162.5 1672,-162.5\"/>\n<text text-anchor=\"middle\" x=\"1699\" y=\"-176.8\" font-family=\"Times,serif\" font-size=\"14.00\" fill=\"#000000\">1_9</text>\n</g>\n<!-- 0_1&#45;&gt;1_9 -->\n<g id=\"edge20\" class=\"edge\">\n<title>0_1&#45;&gt;1_9</title>\n<path fill=\"none\" stroke=\"#000000\" d=\"M1294.2135,-252.1188C1372.2281,-247.8752 1595.3867,-233.6707 1663,-207 1665.1117,-206.167 1667.2108,-205.1785 1669.2726,-204.0807\"/>\n<polygon fill=\"#000000\" stroke=\"#000000\" points=\"1671.314,-206.9341 1677.997,-198.7128 1667.6458,-200.9722 1671.314,-206.9341\"/>\n</g>\n<!-- 1_10 -->\n<g id=\"node13\" class=\"node\">\n<title>1_10</title>\n<polygon fill=\"none\" stroke=\"#000000\" points=\"1600,-162.5 1600,-198.5 1654,-198.5 1654,-162.5 1600,-162.5\"/>\n<text text-anchor=\"middle\" x=\"1627\" y=\"-176.8\" font-family=\"Times,serif\" font-size=\"14.00\" fill=\"#000000\">1_10</text>\n</g>\n<!-- 0_1&#45;&gt;1_10 -->\n<g id=\"edge22\" class=\"edge\">\n<title>0_1&#45;&gt;1_10</title>\n<path fill=\"none\" stroke=\"#000000\" d=\"M1294.0352,-251.3262C1361.7569,-245.6103 1537.0947,-229.0666 1591,-207 1593.1008,-206.14 1595.1915,-205.1306 1597.247,-204.0171\"/>\n<polygon fill=\"#000000\" stroke=\"#000000\" points=\"1599.3063,-206.8583 1605.9555,-198.6098 1595.6137,-200.9115 1599.3063,-206.8583\"/>\n</g>\n<!-- 1_11 -->\n<g id=\"node14\" class=\"node\">\n<title>1_11</title>\n<polygon fill=\"none\" stroke=\"#000000\" points=\"1528,-162.5 1528,-198.5 1582,-198.5 1582,-162.5 1528,-162.5\"/>\n<text text-anchor=\"middle\" x=\"1555\" y=\"-176.8\" font-family=\"Times,serif\" font-size=\"14.00\" fill=\"#000000\">1_11</text>\n</g>\n<!-- 0_1&#45;&gt;1_11 -->\n<g id=\"edge23\" class=\"edge\">\n<title>0_1&#45;&gt;1_11</title>\n<path fill=\"none\" stroke=\"#000000\" d=\"M1294.2688,-252.4545C1341.7863,-249.7789 1442.0397,-240.3133 1519,-207 1520.8696,-206.1907 1522.7342,-205.2688 1524.5753,-204.2658\"/>\n<polygon fill=\"#000000\" stroke=\"#000000\" points=\"1526.8514,-206.9723 1533.4984,-198.7219 1523.1572,-201.0264 1526.8514,-206.9723\"/>\n</g>\n<!-- 1_12 -->\n<g id=\"node15\" class=\"node\">\n<title>1_12</title>\n<polygon fill=\"none\" stroke=\"#000000\" points=\"880,-162.5 880,-198.5 934,-198.5 934,-162.5 880,-162.5\"/>\n<text text-anchor=\"middle\" x=\"907\" y=\"-176.8\" font-family=\"Times,serif\" font-size=\"14.00\" fill=\"#000000\">1_12</text>\n</g>\n<!-- 0_1&#45;&gt;1_12 -->\n<g id=\"edge25\" class=\"edge\">\n<title>0_1&#45;&gt;1_12</title>\n<path fill=\"none\" stroke=\"#000000\" d=\"M1246.4594,-235.3645C1241.6733,-232.0292 1236.3909,-228.9797 1231,-227 1110.5564,-182.7693 1063.4436,-251.2307 943,-207 940.8099,-206.1957 938.6378,-205.2149 936.5096,-204.1101\"/>\n<polygon fill=\"#000000\" stroke=\"#000000\" points=\"937.8997,-200.8582 927.5406,-198.6355 934.2526,-206.8331 937.8997,-200.8582\"/>\n</g>\n<!-- 1_13 -->\n<g id=\"node16\" class=\"node\">\n<title>1_13</title>\n<polygon fill=\"none\" stroke=\"#000000\" points=\"808,-162.5 808,-198.5 862,-198.5 862,-162.5 808,-162.5\"/>\n<text text-anchor=\"middle\" x=\"835\" y=\"-176.8\" font-family=\"Times,serif\" font-size=\"14.00\" fill=\"#000000\">1_13</text>\n</g>\n<!-- 0_1&#45;&gt;1_13 -->\n<g id=\"edge28\" class=\"edge\">\n<title>0_1&#45;&gt;1_13</title>\n<path fill=\"none\" stroke=\"#000000\" d=\"M1246.4799,-235.3079C1241.6926,-231.9761 1236.4045,-228.9424 1231,-227 1080.1971,-172.8012 1021.8029,-261.1988 871,-207 868.8044,-206.2109 866.6281,-205.2417 864.4967,-204.1456\"/>\n<polygon fill=\"#000000\" stroke=\"#000000\" points=\"865.8838,-200.893 855.5201,-198.6921 862.2493,-206.8755 865.8838,-200.893\"/>\n</g>\n<!-- 1_14 -->\n<g id=\"node17\" class=\"node\">\n<title>1_14</title>\n<polygon fill=\"none\" stroke=\"#000000\" points=\"1312,-162.5 1312,-198.5 1366,-198.5 1366,-162.5 1312,-162.5\"/>\n<text text-anchor=\"middle\" x=\"1339\" y=\"-176.8\" font-family=\"Times,serif\" font-size=\"14.00\" fill=\"#000000\">1_14</text>\n</g>\n<!-- 0_1&#45;&gt;1_14 -->\n<g id=\"edge29\" class=\"edge\">\n<title>0_1&#45;&gt;1_14</title>\n<path fill=\"none\" stroke=\"#000000\" d=\"M1284.7978,-235.4551C1293.6248,-226.5054 1304.4331,-215.547 1314.0693,-205.7769\"/>\n<polygon fill=\"#000000\" stroke=\"#000000\" points=\"1316.6272,-208.1678 1321.1575,-198.5904 1311.6434,-203.2523 1316.6272,-208.1678\"/>\n</g>\n<!-- 1_15 -->\n<g id=\"node18\" class=\"node\">\n<title>1_15</title>\n<polygon fill=\"none\" stroke=\"#000000\" points=\"1240,-162.5 1240,-198.5 1294,-198.5 1294,-162.5 1240,-162.5\"/>\n<text text-anchor=\"middle\" x=\"1267\" y=\"-176.8\" font-family=\"Times,serif\" font-size=\"14.00\" fill=\"#000000\">1_15</text>\n</g>\n<!-- 0_1&#45;&gt;1_15 -->\n<g id=\"edge31\" class=\"edge\">\n<title>0_1&#45;&gt;1_15</title>\n<path fill=\"none\" stroke=\"#000000\" d=\"M1267,-235.4551C1267,-227.3828 1267,-217.6764 1267,-208.6817\"/>\n<polygon fill=\"#000000\" stroke=\"#000000\" points=\"1270.5001,-208.5903 1267,-198.5904 1263.5001,-208.5904 1270.5001,-208.5903\"/>\n</g>\n<!-- 0_0 -->\n<g id=\"node2\" class=\"node\">\n<title>0_0</title>\n<polygon fill=\"none\" stroke=\"#000000\" points=\"1168,-235.5 1168,-271.5 1222,-271.5 1222,-235.5 1168,-235.5\"/>\n<text text-anchor=\"middle\" x=\"1195\" y=\"-249.8\" font-family=\"Times,serif\" font-size=\"14.00\" fill=\"#000000\">0_0</text>\n</g>\n<!-- 0_0&#45;&gt;1_0 -->\n<g id=\"edge2\" class=\"edge\">\n<title>0_0&#45;&gt;1_0</title>\n<path fill=\"none\" stroke=\"#000000\" d=\"M1167.7865,-252.1188C1089.7719,-247.8752 866.6133,-233.6707 799,-207 796.8883,-206.167 794.7892,-205.1785 792.7274,-204.0807\"/>\n<polygon fill=\"#000000\" stroke=\"#000000\" points=\"794.3542,-200.9722 784.003,-198.7128 790.686,-206.9341 794.3542,-200.9722\"/>\n</g>\n<!-- 0_0&#45;&gt;1_1 -->\n<g id=\"edge3\" class=\"edge\">\n<title>0_0&#45;&gt;1_1</title>\n<path fill=\"none\" stroke=\"#000000\" d=\"M1167.9281,-252.6858C1080.7944,-249.7744 808.5542,-238.3314 727,-207 724.8221,-206.1633 722.6593,-205.1577 720.538,-204.0343\"/>\n<polygon fill=\"#000000\" stroke=\"#000000\" points=\"721.935,-200.7839 711.5861,-198.5144 718.261,-206.7422 721.935,-200.7839\"/>\n</g>\n<!-- 0_0&#45;&gt;1_2 -->\n<g id=\"edge6\" class=\"edge\">\n<title>0_0&#45;&gt;1_2</title>\n<path fill=\"none\" stroke=\"#000000\" d=\"M1215.5757,-235.4583C1220.3596,-232.1171 1225.6322,-229.0416 1231,-227 1321.113,-192.7267 1356.887,-241.2733 1447,-207 1449.1807,-206.1706 1451.3456,-205.1706 1453.4685,-204.0514\"/>\n<polygon fill=\"#000000\" stroke=\"#000000\" points=\"1455.741,-206.7627 1462.4243,-198.5417 1452.0731,-200.8006 1455.741,-206.7627\"/>\n</g>\n<!-- 0_0&#45;&gt;1_3 -->\n<g id=\"edge7\" class=\"edge\">\n<title>0_0&#45;&gt;1_3</title>\n<path fill=\"none\" stroke=\"#000000\" d=\"M1216.037,-235.372C1220.7118,-232.1223 1225.824,-229.1051 1231,-227 1290.8534,-202.6569 1315.1466,-231.3431 1375,-207 1377.1028,-206.1448 1379.195,-205.139 1381.2516,-204.0283\"/>\n<polygon fill=\"#000000\" stroke=\"#000000\" points=\"1383.3078,-206.8717 1389.963,-198.628 1379.6195,-200.9222 1383.3078,-206.8717\"/>\n</g>\n<!-- 0_0&#45;&gt;1_4 -->\n<g id=\"edge10\" class=\"edge\">\n<title>0_0&#45;&gt;1_4</title>\n<path fill=\"none\" stroke=\"#000000\" d=\"M1177.2022,-235.4551C1168.3752,-226.5054 1157.5669,-215.547 1147.9307,-205.7769\"/>\n<polygon fill=\"#000000\" stroke=\"#000000\" points=\"1150.3566,-203.2523 1140.8425,-198.5904 1145.3728,-208.1678 1150.3566,-203.2523\"/>\n</g>\n<!-- 0_0&#45;&gt;1_5 -->\n<g id=\"edge11\" class=\"edge\">\n<title>0_0&#45;&gt;1_5</title>\n<path fill=\"none\" stroke=\"#000000\" d=\"M1215.497,-235.2429C1220.2858,-231.9152 1225.5803,-228.8995 1231,-227 1336.7793,-189.9259 1629.2207,-244.0741 1735,-207 1737.2018,-206.2283 1739.3828,-205.2724 1741.5178,-204.1863\"/>\n<polygon fill=\"#000000\" stroke=\"#000000\" points=\"1743.7541,-206.9243 1750.503,-198.7571 1740.134,-200.9331 1743.7541,-206.9243\"/>\n</g>\n<!-- 0_0&#45;&gt;1_6 -->\n<g id=\"edge14\" class=\"edge\">\n<title>0_0&#45;&gt;1_6</title>\n<path fill=\"none\" stroke=\"#000000\" d=\"M1167.9996,-243.849C1145.6448,-235.3987 1113.388,-222.1284 1087,-207 1085.5188,-206.1508 1084.0263,-205.2519 1082.5354,-204.318\"/>\n<polygon fill=\"#000000\" stroke=\"#000000\" points=\"1084.3643,-201.3307 1074.1036,-198.6907 1080.4784,-207.1531 1084.3643,-201.3307\"/>\n</g>\n<!-- 0_0&#45;&gt;1_7 -->\n<g id=\"edge16\" class=\"edge\">\n<title>0_0&#45;&gt;1_7</title>\n<path fill=\"none\" stroke=\"#000000\" d=\"M1195,-235.4551C1195,-227.3828 1195,-217.6764 1195,-208.6817\"/>\n<polygon fill=\"#000000\" stroke=\"#000000\" points=\"1198.5001,-208.5903 1195,-198.5904 1191.5001,-208.5904 1198.5001,-208.5903\"/>\n</g>\n<!-- 0_0&#45;&gt;1_8 -->\n<g id=\"edge17\" class=\"edge\">\n<title>0_0&#45;&gt;1_8</title>\n<path fill=\"none\" stroke=\"#000000\" d=\"M1167.9742,-249.8108C1131.7702,-244.1459 1066.1598,-231.3154 1015,-207 1013.2126,-206.1505 1011.4241,-205.2073 1009.6525,-204.1975\"/>\n<polygon fill=\"#000000\" stroke=\"#000000\" points=\"1011.3367,-201.121 1001.0177,-198.7189 1007.5864,-207.0317 1011.3367,-201.121\"/>\n</g>\n<!-- 0_0&#45;&gt;1_9 -->\n<g id=\"edge19\" class=\"edge\">\n<title>0_0&#45;&gt;1_9</title>\n<path fill=\"none\" stroke=\"#000000\" d=\"M1215.5065,-235.27C1220.2948,-231.9406 1225.5866,-228.9174 1231,-227 1321.5883,-194.914 1572.4117,-239.086 1663,-207 1665.1992,-206.2211 1667.3783,-205.2596 1669.5118,-204.1693\"/>\n<polygon fill=\"#000000\" stroke=\"#000000\" points=\"1671.7528,-206.904 1678.4935,-198.73 1668.1267,-200.9164 1671.7528,-206.904\"/>\n</g>\n<!-- 0_0&#45;&gt;1_10 -->\n<g id=\"edge21\" class=\"edge\">\n<title>0_0&#45;&gt;1_10</title>\n<path fill=\"none\" stroke=\"#000000\" d=\"M1215.5201,-235.3079C1220.3074,-231.9761 1225.5955,-228.9424 1231,-227 1381.8029,-172.8012 1440.1971,-261.1988 1591,-207 1593.1956,-206.2109 1595.3719,-205.2417 1597.5033,-204.1456\"/>\n<polygon fill=\"#000000\" stroke=\"#000000\" points=\"1599.7507,-206.8755 1606.4799,-198.6921 1596.1162,-200.893 1599.7507,-206.8755\"/>\n</g>\n<!-- 0_0&#45;&gt;1_11 -->\n<g id=\"edge24\" class=\"edge\">\n<title>0_0&#45;&gt;1_11</title>\n<path fill=\"none\" stroke=\"#000000\" d=\"M1215.5406,-235.3645C1220.3267,-232.0292 1225.6091,-228.9797 1231,-227 1351.4436,-182.7693 1398.5564,-251.2307 1519,-207 1521.1901,-206.1957 1523.3622,-205.2149 1525.4904,-204.1101\"/>\n<polygon fill=\"#000000\" stroke=\"#000000\" points=\"1527.7474,-206.8331 1534.4594,-198.6355 1524.1003,-200.8582 1527.7474,-206.8331\"/>\n</g>\n<!-- 0_0&#45;&gt;1_12 -->\n<g id=\"edge26\" class=\"edge\">\n<title>0_0&#45;&gt;1_12</title>\n<path fill=\"none\" stroke=\"#000000\" d=\"M1167.7312,-252.4545C1120.2137,-249.7789 1019.9603,-240.3133 943,-207 941.1304,-206.1907 939.2658,-205.2688 937.4247,-204.2658\"/>\n<polygon fill=\"#000000\" stroke=\"#000000\" points=\"938.8428,-201.0264 928.5016,-198.7219 935.1486,-206.9723 938.8428,-201.0264\"/>\n</g>\n<!-- 0_0&#45;&gt;1_13 -->\n<g id=\"edge27\" class=\"edge\">\n<title>0_0&#45;&gt;1_13</title>\n<path fill=\"none\" stroke=\"#000000\" d=\"M1167.9648,-251.3262C1100.2431,-245.6103 924.9053,-229.0666 871,-207 868.8992,-206.14 866.8085,-205.1306 864.753,-204.0171\"/>\n<polygon fill=\"#000000\" stroke=\"#000000\" points=\"866.3863,-200.9115 856.0445,-198.6098 862.6937,-206.8583 866.3863,-200.9115\"/>\n</g>\n<!-- 0_0&#45;&gt;1_14 -->\n<g id=\"edge30\" class=\"edge\">\n<title>0_0&#45;&gt;1_14</title>\n<path fill=\"none\" stroke=\"#000000\" d=\"M1217.0513,-235.3509C1221.4899,-232.2604 1226.2544,-229.3085 1231,-227 1260.8655,-212.4719 1273.1345,-221.5281 1303,-207 1304.7796,-206.1343 1306.5619,-205.1782 1308.3286,-204.1581\"/>\n<polygon fill=\"#000000\" stroke=\"#000000\" points=\"1310.4073,-206.9834 1316.9487,-198.6491 1306.6377,-201.0851 1310.4073,-206.9834\"/>\n</g>\n<!-- 0_0&#45;&gt;1_15 -->\n<g id=\"edge32\" class=\"edge\">\n<title>0_0&#45;&gt;1_15</title>\n<path fill=\"none\" stroke=\"#000000\" d=\"M1212.7978,-235.4551C1221.6248,-226.5054 1232.4331,-215.547 1242.0693,-205.7769\"/>\n<polygon fill=\"#000000\" stroke=\"#000000\" points=\"1244.6272,-208.1678 1249.1575,-198.5904 1239.6434,-203.2523 1244.6272,-208.1678\"/>\n</g>\n<!-- 2_2 -->\n<g id=\"node21\" class=\"node\">\n<title>2_2</title>\n<polygon fill=\"none\" stroke=\"#000000\" points=\"880,-89.5 880,-125.5 934,-125.5 934,-89.5 880,-89.5\"/>\n<text text-anchor=\"middle\" x=\"907\" y=\"-103.8\" font-family=\"Times,serif\" font-size=\"14.00\" fill=\"#000000\">2_2</text>\n</g>\n<!-- 1_0&#45;&gt;2_2 -->\n<g id=\"edge43\" class=\"edge\">\n<title>1_0&#45;&gt;2_2</title>\n<path fill=\"none\" stroke=\"#000000\" d=\"M785.0513,-162.3509C789.4899,-159.2604 794.2544,-156.3085 799,-154 828.8655,-139.4719 841.1345,-148.5281 871,-134 872.7796,-133.1343 874.5619,-132.1782 876.3286,-131.1581\"/>\n<polygon fill=\"#000000\" stroke=\"#000000\" points=\"878.4073,-133.9834 884.9487,-125.6491 874.6377,-128.0851 878.4073,-133.9834\"/>\n</g>\n<!-- 2_3 -->\n<g id=\"node22\" class=\"node\">\n<title>2_3</title>\n<polygon fill=\"none\" stroke=\"#000000\" points=\"664,-89.5 664,-125.5 718,-125.5 718,-89.5 664,-89.5\"/>\n<text text-anchor=\"middle\" x=\"691\" y=\"-103.8\" font-family=\"Times,serif\" font-size=\"14.00\" fill=\"#000000\">2_3</text>\n</g>\n<!-- 1_0&#45;&gt;2_3 -->\n<g id=\"edge44\" class=\"edge\">\n<title>1_0&#45;&gt;2_3</title>\n<path fill=\"none\" stroke=\"#000000\" d=\"M745.2022,-162.4551C736.3752,-153.5054 725.5669,-142.547 715.9307,-132.7769\"/>\n<polygon fill=\"#000000\" stroke=\"#000000\" points=\"718.3566,-130.2523 708.8425,-125.5904 713.3728,-135.1678 718.3566,-130.2523\"/>\n</g>\n<!-- 2_6 -->\n<g id=\"node25\" class=\"node\">\n<title>2_6</title>\n<polygon fill=\"none\" stroke=\"#000000\" points=\"592,-89.5 592,-125.5 646,-125.5 646,-89.5 592,-89.5\"/>\n<text text-anchor=\"middle\" x=\"619\" y=\"-103.8\" font-family=\"Times,serif\" font-size=\"14.00\" fill=\"#000000\">2_6</text>\n</g>\n<!-- 1_0&#45;&gt;2_6 -->\n<g id=\"edge49\" class=\"edge\">\n<title>1_0&#45;&gt;2_6</title>\n<path fill=\"none\" stroke=\"#000000\" d=\"M740.9487,-162.3509C736.5101,-159.2604 731.7456,-156.3085 727,-154 697.1345,-139.4719 684.8655,-148.5281 655,-134 653.2204,-133.1343 651.4381,-132.1782 649.6714,-131.1581\"/>\n<polygon fill=\"#000000\" stroke=\"#000000\" points=\"651.3623,-128.0851 641.0513,-125.6491 647.5927,-133.9834 651.3623,-128.0851\"/>\n</g>\n<!-- 2_11 -->\n<g id=\"node30\" class=\"node\">\n<title>2_11</title>\n<polygon fill=\"none\" stroke=\"#000000\" points=\"952,-89.5 952,-125.5 1006,-125.5 1006,-89.5 952,-89.5\"/>\n<text text-anchor=\"middle\" x=\"979\" y=\"-103.8\" font-family=\"Times,serif\" font-size=\"14.00\" fill=\"#000000\">2_11</text>\n</g>\n<!-- 1_0&#45;&gt;2_11 -->\n<g id=\"edge54\" class=\"edge\">\n<title>1_0&#45;&gt;2_11</title>\n<path fill=\"none\" stroke=\"#000000\" d=\"M784.037,-162.372C788.7118,-159.1223 793.824,-156.1051 799,-154 858.8534,-129.6569 883.1466,-158.3431 943,-134 945.1028,-133.1448 947.195,-132.139 949.2516,-131.0283\"/>\n<polygon fill=\"#000000\" stroke=\"#000000\" points=\"951.3078,-133.8717 957.963,-125.628 947.6195,-127.9222 951.3078,-133.8717\"/>\n</g>\n<!-- 2_13 -->\n<g id=\"node32\" class=\"node\">\n<title>2_13</title>\n<polygon fill=\"none\" stroke=\"#000000\" points=\"736,-89.5 736,-125.5 790,-125.5 790,-89.5 736,-89.5\"/>\n<text text-anchor=\"middle\" x=\"763\" y=\"-103.8\" font-family=\"Times,serif\" font-size=\"14.00\" fill=\"#000000\">2_13</text>\n</g>\n<!-- 1_0&#45;&gt;2_13 -->\n<g id=\"edge56\" class=\"edge\">\n<title>1_0&#45;&gt;2_13</title>\n<path fill=\"none\" stroke=\"#000000\" d=\"M763,-162.4551C763,-154.3828 763,-144.6764 763,-135.6817\"/>\n<polygon fill=\"#000000\" stroke=\"#000000\" points=\"766.5001,-135.5903 763,-125.5904 759.5001,-135.5904 766.5001,-135.5903\"/>\n</g>\n<!-- 2_14 -->\n<g id=\"node33\" class=\"node\">\n<title>2_14</title>\n<polygon fill=\"none\" stroke=\"#000000\" points=\"808,-89.5 808,-125.5 862,-125.5 862,-89.5 808,-89.5\"/>\n<text text-anchor=\"middle\" x=\"835\" y=\"-103.8\" font-family=\"Times,serif\" font-size=\"14.00\" fill=\"#000000\">2_14</text>\n</g>\n<!-- 1_0&#45;&gt;2_14 -->\n<g id=\"edge57\" class=\"edge\">\n<title>1_0&#45;&gt;2_14</title>\n<path fill=\"none\" stroke=\"#000000\" d=\"M780.7978,-162.4551C789.6248,-153.5054 800.4331,-142.547 810.0693,-132.7769\"/>\n<polygon fill=\"#000000\" stroke=\"#000000\" points=\"812.6272,-135.1678 817.1575,-125.5904 807.6434,-130.2523 812.6272,-135.1678\"/>\n</g>\n<!-- 2_15 -->\n<g id=\"node34\" class=\"node\">\n<title>2_15</title>\n<polygon fill=\"none\" stroke=\"#000000\" points=\"1024,-89.5 1024,-125.5 1078,-125.5 1078,-89.5 1024,-89.5\"/>\n<text text-anchor=\"middle\" x=\"1051\" y=\"-103.8\" font-family=\"Times,serif\" font-size=\"14.00\" fill=\"#000000\">2_15</text>\n</g>\n<!-- 1_0&#45;&gt;2_15 -->\n<g id=\"edge59\" class=\"edge\">\n<title>1_0&#45;&gt;2_15</title>\n<path fill=\"none\" stroke=\"#000000\" d=\"M783.5757,-162.4583C788.3596,-159.1171 793.6322,-156.0416 799,-154 889.113,-119.7267 924.887,-168.2733 1015,-134 1017.1807,-133.1706 1019.3456,-132.1706 1021.4685,-131.0514\"/>\n<polygon fill=\"#000000\" stroke=\"#000000\" points=\"1023.741,-133.7627 1030.4243,-125.5417 1020.0731,-127.8006 1023.741,-133.7627\"/>\n</g>\n<!-- 2_0 -->\n<g id=\"node19\" class=\"node\">\n<title>2_0</title>\n<polygon fill=\"none\" stroke=\"#000000\" points=\"1096,-89.5 1096,-125.5 1150,-125.5 1150,-89.5 1096,-89.5\"/>\n<text text-anchor=\"middle\" x=\"1123\" y=\"-103.8\" font-family=\"Times,serif\" font-size=\"14.00\" fill=\"#000000\">2_0</text>\n</g>\n<!-- 1_1&#45;&gt;2_0 -->\n<g id=\"edge33\" class=\"edge\">\n<title>1_1&#45;&gt;2_0</title>\n<path fill=\"none\" stroke=\"#000000\" d=\"M711.5201,-162.3079C716.3074,-158.9761 721.5955,-155.9424 727,-154 877.8029,-99.8012 936.1971,-188.1988 1087,-134 1089.1956,-133.2109 1091.3719,-132.2417 1093.5033,-131.1456\"/>\n<polygon fill=\"#000000\" stroke=\"#000000\" points=\"1095.7507,-133.8755 1102.4799,-125.6921 1092.1162,-127.893 1095.7507,-133.8755\"/>\n</g>\n<!-- 2_1 -->\n<g id=\"node20\" class=\"node\">\n<title>2_1</title>\n<polygon fill=\"none\" stroke=\"#000000\" points=\"16,-89.5 16,-125.5 70,-125.5 70,-89.5 16,-89.5\"/>\n<text text-anchor=\"middle\" x=\"43\" y=\"-103.8\" font-family=\"Times,serif\" font-size=\"14.00\" fill=\"#000000\">2_1</text>\n</g>\n<!-- 1_1&#45;&gt;2_1 -->\n<g id=\"edge42\" class=\"edge\">\n<title>1_1&#45;&gt;2_1</title>\n<path fill=\"none\" stroke=\"#000000\" d=\"M663.6651,-179.3121C552.073,-174.3422 134.3223,-154.5205 79,-134 76.8126,-133.1886 74.6424,-132.2024 72.5157,-131.0935\"/>\n<polygon fill=\"#000000\" stroke=\"#000000\" points=\"73.9073,-127.8419 63.5504,-125.6089 70.2543,-133.8131 73.9073,-127.8419\"/>\n</g>\n<!-- 1_1&#45;&gt;2_3 -->\n<g id=\"edge45\" class=\"edge\">\n<title>1_1&#45;&gt;2_3</title>\n<path fill=\"none\" stroke=\"#000000\" d=\"M691,-162.4551C691,-154.3828 691,-144.6764 691,-135.6817\"/>\n<polygon fill=\"#000000\" stroke=\"#000000\" points=\"694.5001,-135.5903 691,-125.5904 687.5001,-135.5904 694.5001,-135.5903\"/>\n</g>\n<!-- 2_4 -->\n<g id=\"node23\" class=\"node\">\n<title>2_4</title>\n<polygon fill=\"none\" stroke=\"#000000\" points=\"376,-89.5 376,-125.5 430,-125.5 430,-89.5 376,-89.5\"/>\n<text text-anchor=\"middle\" x=\"403\" y=\"-103.8\" font-family=\"Times,serif\" font-size=\"14.00\" fill=\"#000000\">2_4</text>\n</g>\n<!-- 1_1&#45;&gt;2_4 -->\n<g id=\"edge46\" class=\"edge\">\n<title>1_1&#45;&gt;2_4</title>\n<path fill=\"none\" stroke=\"#000000\" d=\"M663.7312,-179.4545C616.2137,-176.7789 515.9603,-167.3133 439,-134 437.1304,-133.1907 435.2658,-132.2688 433.4247,-131.2658\"/>\n<polygon fill=\"#000000\" stroke=\"#000000\" points=\"434.8428,-128.0264 424.5016,-125.7219 431.1486,-133.9723 434.8428,-128.0264\"/>\n</g>\n<!-- 2_5 -->\n<g id=\"node24\" class=\"node\">\n<title>2_5</title>\n<polygon fill=\"none\" stroke=\"#000000\" points=\"304,-89.5 304,-125.5 358,-125.5 358,-89.5 304,-89.5\"/>\n<text text-anchor=\"middle\" x=\"331\" y=\"-103.8\" font-family=\"Times,serif\" font-size=\"14.00\" fill=\"#000000\">2_5</text>\n</g>\n<!-- 1_1&#45;&gt;2_5 -->\n<g id=\"edge47\" class=\"edge\">\n<title>1_1&#45;&gt;2_5</title>\n<path fill=\"none\" stroke=\"#000000\" d=\"M663.9648,-178.3262C596.2431,-172.6103 420.9053,-156.0666 367,-134 364.8992,-133.14 362.8085,-132.1306 360.753,-131.0171\"/>\n<polygon fill=\"#000000\" stroke=\"#000000\" points=\"362.3863,-127.9115 352.0445,-125.6098 358.6937,-133.8583 362.3863,-127.9115\"/>\n</g>\n<!-- 1_1&#45;&gt;2_6 -->\n<g id=\"edge48\" class=\"edge\">\n<title>1_1&#45;&gt;2_6</title>\n<path fill=\"none\" stroke=\"#000000\" d=\"M673.2022,-162.4551C664.3752,-153.5054 653.5669,-142.547 643.9307,-132.7769\"/>\n<polygon fill=\"#000000\" stroke=\"#000000\" points=\"646.3566,-130.2523 636.8425,-125.5904 641.3728,-135.1678 646.3566,-130.2523\"/>\n</g>\n<!-- 2_7 -->\n<g id=\"node26\" class=\"node\">\n<title>2_7</title>\n<polygon fill=\"none\" stroke=\"#000000\" points=\"88,-89.5 88,-125.5 142,-125.5 142,-89.5 88,-89.5\"/>\n<text text-anchor=\"middle\" x=\"115\" y=\"-103.8\" font-family=\"Times,serif\" font-size=\"14.00\" fill=\"#000000\">2_7</text>\n</g>\n<!-- 1_1&#45;&gt;2_7 -->\n<g id=\"edge50\" class=\"edge\">\n<title>1_1&#45;&gt;2_7</title>\n<path fill=\"none\" stroke=\"#000000\" d=\"M663.8728,-180.0968C568.112,-178.3761 246.5424,-169.9871 151,-134 148.8167,-133.1776 146.6497,-132.183 144.5253,-131.0678\"/>\n<polygon fill=\"#000000\" stroke=\"#000000\" points=\"145.9192,-127.8167 135.5658,-125.5679 142.2571,-133.7823 145.9192,-127.8167\"/>\n</g>\n<!-- 2_8 -->\n<g id=\"node27\" class=\"node\">\n<title>2_8</title>\n<polygon fill=\"none\" stroke=\"#000000\" points=\"520,-89.5 520,-125.5 574,-125.5 574,-89.5 520,-89.5\"/>\n<text text-anchor=\"middle\" x=\"547\" y=\"-103.8\" font-family=\"Times,serif\" font-size=\"14.00\" fill=\"#000000\">2_8</text>\n</g>\n<!-- 1_1&#45;&gt;2_8 -->\n<g id=\"edge51\" class=\"edge\">\n<title>1_1&#45;&gt;2_8</title>\n<path fill=\"none\" stroke=\"#000000\" d=\"M663.9996,-170.849C641.6448,-162.3987 609.388,-149.1284 583,-134 581.5188,-133.1508 580.0263,-132.2519 578.5354,-131.318\"/>\n<polygon fill=\"#000000\" stroke=\"#000000\" points=\"580.3643,-128.3307 570.1036,-125.6907 576.4784,-134.1531 580.3643,-128.3307\"/>\n</g>\n<!-- 2_9 -->\n<g id=\"node28\" class=\"node\">\n<title>2_9</title>\n<polygon fill=\"none\" stroke=\"#000000\" points=\"448,-89.5 448,-125.5 502,-125.5 502,-89.5 448,-89.5\"/>\n<text text-anchor=\"middle\" x=\"475\" y=\"-103.8\" font-family=\"Times,serif\" font-size=\"14.00\" fill=\"#000000\">2_9</text>\n</g>\n<!-- 1_1&#45;&gt;2_9 -->\n<g id=\"edge52\" class=\"edge\">\n<title>1_1&#45;&gt;2_9</title>\n<path fill=\"none\" stroke=\"#000000\" d=\"M663.9742,-176.8108C627.7702,-171.1459 562.1598,-158.3154 511,-134 509.2126,-133.1505 507.4241,-132.2073 505.6525,-131.1975\"/>\n<polygon fill=\"#000000\" stroke=\"#000000\" points=\"507.3367,-128.121 497.0177,-125.7189 503.5864,-134.0317 507.3367,-128.121\"/>\n</g>\n<!-- 2_10 -->\n<g id=\"node29\" class=\"node\">\n<title>2_10</title>\n<polygon fill=\"none\" stroke=\"#000000\" points=\"160,-89.5 160,-125.5 214,-125.5 214,-89.5 160,-89.5\"/>\n<text text-anchor=\"middle\" x=\"187\" y=\"-103.8\" font-family=\"Times,serif\" font-size=\"14.00\" fill=\"#000000\">2_10</text>\n</g>\n<!-- 1_1&#45;&gt;2_10 -->\n<g id=\"edge53\" class=\"edge\">\n<title>1_1&#45;&gt;2_10</title>\n<path fill=\"none\" stroke=\"#000000\" d=\"M663.9281,-179.6858C576.7944,-176.7744 304.5542,-165.3314 223,-134 220.8221,-133.1633 218.6593,-132.1577 216.538,-131.0343\"/>\n<polygon fill=\"#000000\" stroke=\"#000000\" points=\"217.935,-127.7839 207.5861,-125.5144 214.261,-133.7422 217.935,-127.7839\"/>\n</g>\n<!-- 1_1&#45;&gt;2_13 -->\n<g id=\"edge55\" class=\"edge\">\n<title>1_1&#45;&gt;2_13</title>\n<path fill=\"none\" stroke=\"#000000\" d=\"M708.7978,-162.4551C717.6248,-153.5054 728.4331,-142.547 738.0693,-132.7769\"/>\n<polygon fill=\"#000000\" stroke=\"#000000\" points=\"740.6272,-135.1678 745.1575,-125.5904 735.6434,-130.2523 740.6272,-135.1678\"/>\n</g>\n<!-- 1_1&#45;&gt;2_14 -->\n<g id=\"edge58\" class=\"edge\">\n<title>1_1&#45;&gt;2_14</title>\n<path fill=\"none\" stroke=\"#000000\" d=\"M713.0513,-162.3509C717.4899,-159.2604 722.2544,-156.3085 727,-154 756.8655,-139.4719 769.1345,-148.5281 799,-134 800.7796,-133.1343 802.5619,-132.1782 804.3286,-131.1581\"/>\n<polygon fill=\"#000000\" stroke=\"#000000\" points=\"806.4073,-133.9834 812.9487,-125.6491 802.6377,-128.0851 806.4073,-133.9834\"/>\n</g>\n<!-- 1_1&#45;&gt;2_15 -->\n<g id=\"edge60\" class=\"edge\">\n<title>1_1&#45;&gt;2_15</title>\n<path fill=\"none\" stroke=\"#000000\" d=\"M711.5406,-162.3645C716.3267,-159.0292 721.6091,-155.9797 727,-154 847.4436,-109.7693 894.5564,-178.2307 1015,-134 1017.1901,-133.1957 1019.3622,-132.2149 1021.4904,-131.1101\"/>\n<polygon fill=\"#000000\" stroke=\"#000000\" points=\"1023.7474,-133.8331 1030.4594,-125.6355 1020.1003,-127.8582 1023.7474,-133.8331\"/>\n</g>\n<!-- 1_2&#45;&gt;2_0 -->\n<g id=\"edge40\" class=\"edge\">\n<title>1_2&#45;&gt;2_0</title>\n<path fill=\"none\" stroke=\"#000000\" d=\"M1461.9555,-162.3902C1457.2813,-159.1392 1452.1712,-156.1169 1447,-154 1395.6215,-132.9677 1233.928,-116.9528 1160.2443,-110.5484\"/>\n<polygon fill=\"#000000\" stroke=\"#000000\" points=\"1160.2974,-107.0403 1150.0352,-109.6738 1159.6999,-114.0147 1160.2974,-107.0403\"/>\n</g>\n<!-- 1_3&#45;&gt;2_0 -->\n<g id=\"edge41\" class=\"edge\">\n<title>1_3&#45;&gt;2_0</title>\n<path fill=\"none\" stroke=\"#000000\" d=\"M1389.4984,-162.2781C1384.9362,-159.1172 1379.9855,-156.158 1375,-154 1303.1503,-122.8989 1210.9985,-112.5834 1160.4106,-109.1734\"/>\n<polygon fill=\"#000000\" stroke=\"#000000\" points=\"1160.466,-105.6702 1150.2688,-108.5455 1160.0334,-112.6568 1160.466,-105.6702\"/>\n</g>\n<!-- 1_4&#45;&gt;2_0 -->\n<g id=\"edge34\" class=\"edge\">\n<title>1_4&#45;&gt;2_0</title>\n<path fill=\"none\" stroke=\"#000000\" d=\"M1123,-162.4551C1123,-154.3828 1123,-144.6764 1123,-135.6817\"/>\n<polygon fill=\"#000000\" stroke=\"#000000\" points=\"1126.5001,-135.5903 1123,-125.5904 1119.5001,-135.5904 1126.5001,-135.5903\"/>\n</g>\n<!-- 1_5&#45;&gt;2_0 -->\n<g id=\"edge36\" class=\"edge\">\n<title>1_5&#45;&gt;2_0</title>\n<path fill=\"none\" stroke=\"#000000\" d=\"M1750.4496,-162.3911C1745.6641,-159.0541 1740.3845,-155.9972 1735,-154 1681.2444,-134.0607 1285.298,-114.781 1160.5374,-109.1455\"/>\n<polygon fill=\"#000000\" stroke=\"#000000\" points=\"1160.4818,-105.6396 1150.3349,-108.6879 1160.168,-112.6326 1160.4818,-105.6396\"/>\n</g>\n<!-- 1_6&#45;&gt;2_0 -->\n<g id=\"edge37\" class=\"edge\">\n<title>1_6&#45;&gt;2_0</title>\n<path fill=\"none\" stroke=\"#000000\" d=\"M1068.7978,-162.4551C1077.6248,-153.5054 1088.4331,-142.547 1098.0693,-132.7769\"/>\n<polygon fill=\"#000000\" stroke=\"#000000\" points=\"1100.6272,-135.1678 1105.1575,-125.5904 1095.6434,-130.2523 1100.6272,-135.1678\"/>\n</g>\n<!-- 1_6&#45;&gt;2_15 -->\n<g id=\"edge62\" class=\"edge\">\n<title>1_6&#45;&gt;2_15</title>\n<path fill=\"none\" stroke=\"#000000\" d=\"M1051,-162.4551C1051,-154.3828 1051,-144.6764 1051,-135.6817\"/>\n<polygon fill=\"#000000\" stroke=\"#000000\" points=\"1054.5001,-135.5903 1051,-125.5904 1047.5001,-135.5904 1054.5001,-135.5903\"/>\n</g>\n<!-- 1_7&#45;&gt;2_0 -->\n<g id=\"edge38\" class=\"edge\">\n<title>1_7&#45;&gt;2_0</title>\n<path fill=\"none\" stroke=\"#000000\" d=\"M1177.2022,-162.4551C1168.3752,-153.5054 1157.5669,-142.547 1147.9307,-132.7769\"/>\n<polygon fill=\"#000000\" stroke=\"#000000\" points=\"1150.3566,-130.2523 1140.8425,-125.5904 1145.3728,-135.1678 1150.3566,-130.2523\"/>\n</g>\n<!-- 1_8&#45;&gt;2_0 -->\n<g id=\"edge39\" class=\"edge\">\n<title>1_8&#45;&gt;2_0</title>\n<path fill=\"none\" stroke=\"#000000\" d=\"M1001.0513,-162.3509C1005.4899,-159.2604 1010.2544,-156.3085 1015,-154 1044.8655,-139.4719 1057.1345,-148.5281 1087,-134 1088.7796,-133.1343 1090.5619,-132.1782 1092.3286,-131.1581\"/>\n<polygon fill=\"#000000\" stroke=\"#000000\" points=\"1094.4073,-133.9834 1100.9487,-125.6491 1090.6377,-128.0851 1094.4073,-133.9834\"/>\n</g>\n<!-- 1_8&#45;&gt;2_15 -->\n<g id=\"edge63\" class=\"edge\">\n<title>1_8&#45;&gt;2_15</title>\n<path fill=\"none\" stroke=\"#000000\" d=\"M996.7978,-162.4551C1005.6248,-153.5054 1016.4331,-142.547 1026.0693,-132.7769\"/>\n<polygon fill=\"#000000\" stroke=\"#000000\" points=\"1028.6272,-135.1678 1033.1575,-125.5904 1023.6434,-130.2523 1028.6272,-135.1678\"/>\n</g>\n<!-- 1_10&#45;&gt;2_0 -->\n<g id=\"edge35\" class=\"edge\">\n<title>1_10&#45;&gt;2_0</title>\n<path fill=\"none\" stroke=\"#000000\" d=\"M1606.4139,-162.4856C1601.6306,-159.1427 1596.3609,-156.0596 1591,-154 1512.3926,-123.8007 1256.6303,-112.0785 1160.2244,-108.6637\"/>\n<polygon fill=\"#000000\" stroke=\"#000000\" points=\"1160.1865,-105.1604 1150.0719,-108.3142 1159.9456,-112.1563 1160.1865,-105.1604\"/>\n</g>\n<!-- 1_12&#45;&gt;2_15 -->\n<g id=\"edge61\" class=\"edge\">\n<title>1_12&#45;&gt;2_15</title>\n<path fill=\"none\" stroke=\"#000000\" d=\"M929.0513,-162.3509C933.4899,-159.2604 938.2544,-156.3085 943,-154 972.8655,-139.4719 985.1345,-148.5281 1015,-134 1016.7796,-133.1343 1018.5619,-132.1782 1020.3286,-131.1581\"/>\n<polygon fill=\"#000000\" stroke=\"#000000\" points=\"1022.4073,-133.9834 1028.9487,-125.6491 1018.6377,-128.0851 1022.4073,-133.9834\"/>\n</g>\n<!-- 1_13&#45;&gt;2_15 -->\n<g id=\"edge64\" class=\"edge\">\n<title>1_13&#45;&gt;2_15</title>\n<path fill=\"none\" stroke=\"#000000\" d=\"M856.037,-162.372C860.7118,-159.1223 865.824,-156.1051 871,-154 930.8534,-129.6569 955.1466,-158.3431 1015,-134 1017.1028,-133.1448 1019.195,-132.139 1021.2516,-131.0283\"/>\n<polygon fill=\"#000000\" stroke=\"#000000\" points=\"1023.3078,-133.8717 1029.963,-125.628 1019.6195,-127.9222 1023.3078,-133.8717\"/>\n</g>\n<!-- 3_0 -->\n<g id=\"node35\" class=\"node\">\n<title>3_0</title>\n<polygon fill=\"none\" stroke=\"#000000\" points=\"844,-16.5 844,-52.5 898,-52.5 898,-16.5 844,-16.5\"/>\n<text text-anchor=\"middle\" x=\"871\" y=\"-30.8\" font-family=\"Times,serif\" font-size=\"14.00\" fill=\"#000000\">3_0</text>\n</g>\n<!-- 2_0&#45;&gt;3_0 -->\n<g id=\"edge68\" class=\"edge\">\n<title>2_0&#45;&gt;3_0</title>\n<path fill=\"none\" stroke=\"#000000\" d=\"M1101.447,-89.3945C1096.889,-86.224 1091.953,-83.2315 1087,-81 1027.7486,-54.3053 952.3207,-42.5777 908.0771,-37.6985\"/>\n<polygon fill=\"#000000\" stroke=\"#000000\" points=\"908.3714,-34.2103 898.062,-36.6529 907.6444,-41.1724 908.3714,-34.2103\"/>\n</g>\n<!-- 2_3&#45;&gt;3_0 -->\n<g id=\"edge65\" class=\"edge\">\n<title>2_3&#45;&gt;3_0</title>\n<path fill=\"none\" stroke=\"#000000\" d=\"M713.522,-89.2353C717.8404,-86.2281 722.4413,-83.3355 727,-81 761.5103,-63.3199 804.0941,-50.5696 833.9701,-42.9416\"/>\n<polygon fill=\"#000000\" stroke=\"#000000\" points=\"835.1119,-46.2645 843.9736,-40.4575 833.4248,-39.4708 835.1119,-46.2645\"/>\n</g>\n<!-- 2_5&#45;&gt;3_0 -->\n<g id=\"edge67\" class=\"edge\">\n<title>2_5&#45;&gt;3_0</title>\n<path fill=\"none\" stroke=\"#000000\" d=\"M351.5752,-89.457C356.3591,-86.1159 361.6319,-83.0407 367,-81 452.4775,-48.5058 732.1129,-38.1119 833.6945,-35.361\"/>\n<polygon fill=\"#000000\" stroke=\"#000000\" points=\"833.8886,-38.8572 843.7937,-35.097 833.7056,-31.8596 833.8886,-38.8572\"/>\n</g>\n<!-- 2_12 -->\n<g id=\"node31\" class=\"node\">\n<title>2_12</title>\n<polygon fill=\"none\" stroke=\"#000000\" points=\"232,-89.5 232,-125.5 286,-125.5 286,-89.5 232,-89.5\"/>\n<text text-anchor=\"middle\" x=\"259\" y=\"-103.8\" font-family=\"Times,serif\" font-size=\"14.00\" fill=\"#000000\">2_12</text>\n</g>\n<!-- 2_15&#45;&gt;3_0 -->\n<g id=\"edge66\" class=\"edge\">\n<title>2_15&#45;&gt;3_0</title>\n<path fill=\"none\" stroke=\"#000000\" d=\"M1028.478,-89.2353C1024.1596,-86.2281 1019.5587,-83.3355 1015,-81 980.4897,-63.3199 937.9059,-50.5696 908.0299,-42.9416\"/>\n<polygon fill=\"#000000\" stroke=\"#000000\" points=\"908.5752,-39.4708 898.0264,-40.4575 906.8881,-46.2645 908.5752,-39.4708\"/>\n</g>\n</g>\n</svg>\n"
          },
          "metadata": {
            "tags": []
          },
          "execution_count": 62
        }
      ]
    },
    {
      "cell_type": "markdown",
      "metadata": {
        "id": "dXxzA0x6qLVA",
        "colab_type": "text"
      },
      "source": [
        "### Stripping Dead Units\n",
        "Removing dead units we are left with a much more compact 12,4,1 architecture."
      ]
    },
    {
      "cell_type": "code",
      "metadata": {
        "id": "2METkanrh091",
        "colab_type": "code",
        "colab": {
          "base_uri": "https://localhost:8080/",
          "height": 198
        },
        "outputId": "6c3e785b-bc7f-4c07-aae1-882ff3e7d1b4"
      },
      "source": [
        "new_model = rigl.strip_deadneurons(model)\n",
        "print(new_model)\n",
        "draw_topology(new_model, rankdir='TB')"
      ],
      "execution_count": 63,
      "outputs": [
        {
          "output_type": "error",
          "ename": "NameError",
          "evalue": "ignored",
          "traceback": [
            "\u001b[0;31m---------------------------------------------------------------------------\u001b[0m",
            "\u001b[0;31mNameError\u001b[0m                                 Traceback (most recent call last)",
            "\u001b[0;32m<ipython-input-63-efe806d4245d>\u001b[0m in \u001b[0;36m<module>\u001b[0;34m()\u001b[0m\n\u001b[0;32m----> 1\u001b[0;31m \u001b[0mnew_model\u001b[0m \u001b[0;34m=\u001b[0m \u001b[0mrigl\u001b[0m\u001b[0;34m.\u001b[0m\u001b[0mstrip_deadneurons\u001b[0m\u001b[0;34m(\u001b[0m\u001b[0mmodel\u001b[0m\u001b[0;34m)\u001b[0m\u001b[0;34m\u001b[0m\u001b[0;34m\u001b[0m\u001b[0m\n\u001b[0m\u001b[1;32m      2\u001b[0m \u001b[0mprint\u001b[0m\u001b[0;34m(\u001b[0m\u001b[0mnew_model\u001b[0m\u001b[0;34m)\u001b[0m\u001b[0;34m\u001b[0m\u001b[0;34m\u001b[0m\u001b[0m\n\u001b[1;32m      3\u001b[0m \u001b[0mdraw_topology\u001b[0m\u001b[0;34m(\u001b[0m\u001b[0mnew_model\u001b[0m\u001b[0;34m,\u001b[0m \u001b[0mrankdir\u001b[0m\u001b[0;34m=\u001b[0m\u001b[0;34m'TB'\u001b[0m\u001b[0;34m)\u001b[0m\u001b[0;34m\u001b[0m\u001b[0;34m\u001b[0m\u001b[0m\n",
            "\u001b[0;31mNameError\u001b[0m: name 'rigl' is not defined"
          ]
        }
      ]
    },
    {
      "cell_type": "code",
      "metadata": {
        "id": "YKRe8hrJk-Pv",
        "colab_type": "code",
        "colab": {
          "base_uri": "https://localhost:8080/",
          "height": 54
        },
        "outputId": "e01d388e-23ce-4fc3-d440-6bf812b32516"
      },
      "source": [
        "model.layers[0]"
      ],
      "execution_count": 50,
      "outputs": [
        {
          "output_type": "execute_result",
          "data": {
            "text/plain": [
              "Layer of [ReLUNeuron(2), ReLUNeuron(2), ReLUNeuron(2), ReLUNeuron(2), ReLUNeuron(2), ReLUNeuron(2), ReLUNeuron(2), ReLUNeuron(2), ReLUNeuron(2), ReLUNeuron(2), ReLUNeuron(2), ReLUNeuron(2), ReLUNeuron(2), ReLUNeuron(2), ReLUNeuron(2), ReLUNeuron(2)]"
            ]
          },
          "metadata": {
            "tags": []
          },
          "execution_count": 50
        }
      ]
    },
    {
      "cell_type": "code",
      "metadata": {
        "id": "_y-pwg1_fNus",
        "colab_type": "code",
        "colab": {
          "base_uri": "https://localhost:8080/",
          "height": 282
        },
        "outputId": "bc41661f-112f-4eb8-c793-c2b6dc6fbad0"
      },
      "source": [
        "# visualize decision boundary\n",
        "\n",
        "h = 0.25\n",
        "x_min, x_max = X[:, 0].min() - 1, X[:, 0].max() + 1\n",
        "y_min, y_max = X[:, 1].min() - 1, X[:, 1].max() + 1\n",
        "xx, yy = np.meshgrid(np.arange(x_min, x_max, h),\n",
        "                     np.arange(y_min, y_max, h))\n",
        "Xmesh = np.c_[xx.ravel(), yy.ravel()]\n",
        "inputs = [list(map(Value, xrow)) for xrow in Xmesh]\n",
        "scores = list(map(model, inputs))\n",
        "Z = np.array([s.data > 0 for s in scores])\n",
        "Z = Z.reshape(xx.shape)\n",
        "\n",
        "fig = plt.figure()\n",
        "plt.contourf(xx, yy, Z, cmap=plt.cm.Spectral, alpha=0.8)\n",
        "plt.scatter(X[:, 0], X[:, 1], c=y, s=40, cmap=plt.cm.Spectral)\n",
        "plt.xlim(xx.min(), xx.max())\n",
        "plt.ylim(yy.min(), yy.max())\n"
      ],
      "execution_count": 49,
      "outputs": [
        {
          "output_type": "execute_result",
          "data": {
            "text/plain": [
              "(-1.548639298268643, 1.951360701731357)"
            ]
          },
          "metadata": {
            "tags": []
          },
          "execution_count": 49
        },
        {
          "output_type": "display_data",
          "data": {
            "image/png": "[encoded data removed]",
            "text/plain": [
              "<Figure size 432x288 with 1 Axes>"
            ]
          },
          "metadata": {
            "tags": [],
            "needs_background": "light"
          }
        }
      ]
    },
    {
      "cell_type": "code",
      "metadata": {
        "id": "dtMFcAlmfNuu",
        "colab_type": "code",
        "colab": {}
      },
      "source": [
        ""
      ],
      "execution_count": 0,
      "outputs": []
    },
    {
      "cell_type": "markdown",
      "metadata": {
        "id": "A8pGQo4Nj5qg",
        "colab_type": "text"
      },
      "source": [
        ""
      ]
    }
  ]
}