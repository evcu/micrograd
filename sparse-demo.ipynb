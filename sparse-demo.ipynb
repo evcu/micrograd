{
 "cells": [
  {
   "cell_type": "markdown",
   "metadata": {},
   "source": [
    "###  MicroGrad sparse demo"
   ]
  },
  {
   "cell_type": "code",
   "execution_count": 14,
   "metadata": {},
   "outputs": [],
   "source": [
    "import math\n",
    "import random\n",
    "import numpy as np\n",
    "import matplotlib.pyplot as plt\n",
    "%matplotlib inline"
   ]
  },
  {
   "cell_type": "code",
   "execution_count": 15,
   "metadata": {},
   "outputs": [],
   "source": [
    "from micrograd.engine import Value\n",
    "from micrograd.nn import Neuron, Layer, MLP, Module"
   ]
  },
  {
   "cell_type": "code",
   "execution_count": 16,
   "metadata": {},
   "outputs": [],
   "source": [
    "class SparseNeuron(Module):\n",
    "\n",
    "    def __init__(self, nin, sparsity, nonlin=True):\n",
    "        assert 0 <= sparsity < 1\n",
    "        n_weights = math.ceil((1 - sparsity) * nin)\n",
    "        w_indices = random.sample(range(n_weights), k=n_weights)\n",
    "        self.w = {i: Value(random.uniform(-0.1, 0.1)) for i in w_indices}\n",
    "        self.b = Value(0)\n",
    "        self.nonlin = nonlin\n",
    "        self.zero_ws = {}\n",
    "\n",
    "    def __call__(self, x, dense_grad=False):\n",
    "        if dense_grad:\n",
    "            # We need to calculate all gradients therefore introduce zeros.\n",
    "            self.zero_ws = {}\n",
    "            results = []\n",
    "            for i, xi in enumerate(x):\n",
    "                if i in self.w:\n",
    "                    results.append(self.w[i]*xi)\n",
    "                else:\n",
    "                    self.zero_ws[i] = Value(0)\n",
    "                    results.append(self.zero_ws[i]*xi)\n",
    "\n",
    "            act = sum(results, self.b)\n",
    "            return act.relu() if self.nonlin else act\n",
    "        else:\n",
    "            act = sum((wi*x[i] for i, wi in self.w.items()), self.b)\n",
    "            return act.relu() if self.nonlin else act        \n",
    "    \n",
    "    def parameters(self):\n",
    "        return list(self.w.values()) + [self.b]\n",
    "\n",
    "    def __repr__(self):\n",
    "        return f\"{'ReLU' if self.nonlin else 'Linear'}Neuron({len(self.w)})\"\n",
    "    \n",
    "class SparseLayer(Module):\n",
    "\n",
    "    def __init__(self, nin, nout, sparsity=0, **kwargs):\n",
    "        self.neurons = [SparseNeuron(nin, sparsity, **kwargs) for _ in range(nout)]\n",
    "\n",
    "    def __call__(self, x, dense_grad=False):\n",
    "        out = [n(x, dense_grad=dense_grad) for n in self.neurons]\n",
    "        return out[0] if len(out) == 1 else out\n",
    "\n",
    "    def parameters(self):\n",
    "        return [p for n in self.neurons for p in n.parameters()]\n",
    "\n",
    "    def __repr__(self):\n",
    "        return f\"Layer of [{', '.join(str(n) for n in self.neurons)}]\"\n",
    "\n",
    "class SparseMLP(Module):\n",
    "\n",
    "    def __init__(self, nin, nouts, sparsities):\n",
    "        sz = [nin] + nouts\n",
    "        self.layers = [SparseLayer(sz[i], sz[i+1], sparsity=sparsities[i],\n",
    "                                   nonlin=i!=len(nouts)-1) for i in range(len(nouts))]\n",
    "\n",
    "    def __call__(self, x, dense_grad=False):\n",
    "        for layer in self.layers:\n",
    "            x = layer(x, dense_grad=dense_grad)\n",
    "        return x\n",
    "\n",
    "    def parameters(self):\n",
    "        return [p for layer in self.layers for p in layer.parameters()]\n",
    "\n",
    "    def __repr__(self):\n",
    "        return f\"MLP of [{', '.join(str(layer) for layer in self.layers)}]\""
   ]
  },
  {
   "cell_type": "code",
   "execution_count": 22,
   "metadata": {},
   "outputs": [],
   "source": [
    "np.random.seed(1337)\n",
    "random.seed(1337)"
   ]
  },
  {
   "cell_type": "code",
   "execution_count": 23,
   "metadata": {},
   "outputs": [
    {
     "data": {
      "text/plain": [
       "<matplotlib.collections.PathCollection at 0x1352d2c10>"
      ]
     },
     "execution_count": 23,
     "metadata": {},
     "output_type": "execute_result"
    },
    {
     "data": {
      "image/png": "[encoded data removed]",
      "text/plain": [
       "<Figure size 360x360 with 1 Axes>"
      ]
     },
     "metadata": {
      "needs_background": "light"
     },
     "output_type": "display_data"
    }
   ],
   "source": [
    "# make up a dataset\n",
    "\n",
    "from sklearn.datasets import make_moons, make_blobs\n",
    "X, y = make_moons(n_samples=100, noise=0.1)\n",
    "\n",
    "y = y*2 - 1 # make y be -1 or 1\n",
    "# visualize in 2D\n",
    "plt.figure(figsize=(5,5))\n",
    "plt.scatter(X[:,0], X[:,1], c=y, s=20, cmap='jet')"
   ]
  },
  {
   "cell_type": "code",
   "execution_count": 24,
   "metadata": {},
   "outputs": [],
   "source": [
    "from functools import partial\n",
    "# loss function\n",
    "def loss(model, batch_size=None, dense_grad=False):\n",
    "    \n",
    "    # inline DataLoader :)\n",
    "    if batch_size is None:\n",
    "        Xb, yb = X, y\n",
    "    else:\n",
    "        ri = np.random.permutation(X.shape[0])[:batch_size]\n",
    "        Xb, yb = X[ri], y[ri]\n",
    "    inputs = [list(map(Value, xrow)) for xrow in Xb]\n",
    "    \n",
    "    # forward the model to get scores\n",
    "    scores = list(map(partial(model, dense_grad=dense_grad), inputs))\n",
    "    \n",
    "    # svm \"max-margin\" loss\n",
    "    losses = [(1 + -yi*scorei).relu() for yi, scorei in zip(yb, scores)]\n",
    "    data_loss = sum(losses) * (1.0 / len(losses))\n",
    "    # L2 regularization\n",
    "    alpha = 1e-4\n",
    "    reg_loss = alpha * sum((p*p for p in model.parameters()))\n",
    "    total_loss = data_loss + reg_loss\n",
    "    \n",
    "    # also get accuracy\n",
    "    accuracy = [(yi > 0) == (scorei.data > 0) for yi, scorei in zip(yb, scores)]\n",
    "    return total_loss, sum(accuracy) / len(accuracy)\n",
    "\n",
    "# total_loss, acc = loss()\n",
    "# print(total_loss, acc)\n",
    "# total_loss, acc = loss(dense_grad=True)\n",
    "# print(total_loss, acc)\n",
    "# print(model.layers[0].neurons[0].zero_ws)"
   ]
  },
  {
   "cell_type": "code",
   "execution_count": 25,
   "metadata": {},
   "outputs": [],
   "source": [
    "def top_k_param_dict(param_tuples, k, sort_fn=lambda p: abs(p.data)):\n",
    "    # The list has (param, index, ..) tuples, so we apply function to the param.\n",
    "    key_fn = lambda tp: sort_fn(tp[0])\n",
    "    # We can do top_k(k=n_update), but for now we are sorting it all.\n",
    "    sorted_list = sorted(param_tuples, key=key_fn, reverse=True)\n",
    "    return sorted_list[:k]\n",
    "\n",
    "def rigl_update_neuron(model, update_fraction=0.3):\n",
    "    total_loss, acc = loss(model, dense_grad=True)\n",
    "    # backward\n",
    "    model.zero_grad()\n",
    "    total_loss.backward()\n",
    "    \n",
    "    for layer in model.layers:\n",
    "        for neuron in layer.neurons:\n",
    "            n_weights = len(neuron.w)\n",
    "            n_update = math.floor(n_weights * update_fraction)\n",
    "            if n_update == 0:\n",
    "                # Not updating\n",
    "                continue\n",
    "#             print(n_update)\n",
    "            # Decide connections to grow (pick top gradient magnitude).\n",
    "            zero_params = [(p, i) for i, p in neuron.zero_ws.items()]\n",
    "            params = [(p, i) for i, p in neuron.w.items()]\n",
    "            top_grad_fn = lambda p: abs(p.grad)\n",
    "            top_k_zero_params = top_k_param_dict(zero_params, n_update, sort_fn=top_grad_fn)\n",
    "#             print(top_k_zero_params)\n",
    "            # Find connections to drop (pick least magnitude).\n",
    "            least_magnutide_fn = lambda p: -abs(p.data)\n",
    "            bottom_k_params = top_k_param_dict(params, n_update, sort_fn=least_magnutide_fn)\n",
    "#             print(bottom_k_params)\n",
    "            for (p, i), (_, i_new) in zip(bottom_k_params, top_k_zero_params):\n",
    "                # Update weights\n",
    "                del neuron.w[i]\n",
    "                p.data = 0.\n",
    "                neuron.w[i_new] = p\n",
    "            # Done with zero_params delete them.\n",
    "            neuron.zero_ws = {}       \n",
    "            \n",
    "def rigl_update_layer(model, update_fraction=0.3):\n",
    "    total_loss, acc = loss(model, dense_grad=True)\n",
    "    # backward\n",
    "    model.zero_grad()\n",
    "    total_loss.backward()\n",
    "    \n",
    "    for layer in model.layers:\n",
    "        n_weights = 0\n",
    "        zero_params, params = [], []\n",
    "        for j, neuron in enumerate(layer.neurons):\n",
    "            n_weights += len(neuron.w)\n",
    "            # Decide connections to grow (pick top gradient magnitude).\n",
    "            zero_params.extend([(p, i, j)  for i, p in neuron.zero_ws.items()])\n",
    "            params.extend([(p, i, j)  for i, p in neuron.w.items()])\n",
    "            # Done with zero_params delete them.\n",
    "            neuron.zero_ws = {}       \n",
    "        n_update = math.floor(n_weights * update_fraction)\n",
    "        if n_update == 0:\n",
    "            # Not updating\n",
    "            continue\n",
    "\n",
    "        top_grad_fn = lambda p: abs(p.grad)\n",
    "        top_k_zero_params = top_k_param_dict(zero_params, n_update, sort_fn=top_grad_fn)\n",
    "#         print(top_k_zero_params)\n",
    "        # Find connections to drop (pick least magnitude).\n",
    "        least_magnutide_fn = lambda p: -abs(p.data)\n",
    "        bottom_k_params = top_k_param_dict(params, n_update, sort_fn=least_magnutide_fn)\n",
    "#         print(bottom_k_params)\n",
    "        for (p, i, j), (_, i_new, j_new) in zip(bottom_k_params, top_k_zero_params):\n",
    "            # Update weights\n",
    "            del layer.neurons[j].w[i]\n",
    "#             if not layer.neurons[j].w:\n",
    "#                 del layer.neurons[j]\n",
    "            p.data = 0.\n",
    "            layer.neurons[j_new].w[i_new] = p\n",
    "\n",
    "        \n",
    "#             print(n_update)\n",
    "\n",
    "def rigl_update_model(model, update_fraction=0.3):\n",
    "    total_loss, acc = loss(model, dense_grad=True)\n",
    "    # backward\n",
    "    model.zero_grad()\n",
    "    total_loss.backward()\n",
    "    n_weights = 0\n",
    "    zero_params, params = [], []\n",
    "    for k, layer in enumerate(model.layers):\n",
    "        for j, neuron in enumerate(layer.neurons):\n",
    "            n_weights += len(neuron.w)\n",
    "            # Decide connections to grow (pick top gradient magnitude).\n",
    "            zero_params.extend([(p, i, j, k)  for i, p in neuron.zero_ws.items()])\n",
    "            params.extend([(p, i, j, k)  for i, p in neuron.w.items()])\n",
    "            # Done with zero_params delete them.\n",
    "            neuron.zero_ws = {}       \n",
    "    n_update = math.floor(n_weights * update_fraction)\n",
    "    if n_update == 0:\n",
    "        # Not updating\n",
    "        return\n",
    "    top_grad_fn = lambda p: abs(p.grad)\n",
    "    top_k_zero_params = top_k_param_dict(zero_params, n_update, sort_fn=top_grad_fn)\n",
    "#     print(top_k_zero_params)\n",
    "    # Find connections to drop (pick least magnitude).\n",
    "    least_magnutide_fn = lambda p: -abs(p.data)\n",
    "    bottom_k_params = top_k_param_dict(params, n_update, sort_fn=least_magnutide_fn)\n",
    "#     print(bottom_k_params)\n",
    "#     import pdb; pdb.set_trace()\n",
    "    for (p, i, j, k), (_, i_new, j_new, k_new) in zip(bottom_k_params, top_k_zero_params):\n",
    "        # Update weights\n",
    "        del model.layers[k].neurons[j].w[i]\n",
    "#         if not model.layers[k].neurons[j].w:\n",
    "#             del model.layers[k].neurons[j]\n",
    "        p.data = 0.\n",
    "        model.layers[k_new].neurons[j_new].w[i_new] = p\n",
    "\n",
    "        \n",
    "#             print(n_update)"
   ]
  },
  {
   "cell_type": "code",
   "execution_count": 26,
   "metadata": {},
   "outputs": [
    {
     "name": "stdout",
     "output_type": "stream",
     "text": [
      "MLP of [Layer of [ReLUNeuron(1), ReLUNeuron(1), ReLUNeuron(1), ReLUNeuron(1), ReLUNeuron(1), ReLUNeuron(1), ReLUNeuron(1), ReLUNeuron(1), ReLUNeuron(1), ReLUNeuron(1), ReLUNeuron(1), ReLUNeuron(1), ReLUNeuron(1), ReLUNeuron(1), ReLUNeuron(1), ReLUNeuron(1)], Layer of [ReLUNeuron(4), ReLUNeuron(4), ReLUNeuron(4), ReLUNeuron(4), ReLUNeuron(4), ReLUNeuron(4), ReLUNeuron(4), ReLUNeuron(4), ReLUNeuron(4), ReLUNeuron(4), ReLUNeuron(4), ReLUNeuron(4), ReLUNeuron(4), ReLUNeuron(4), ReLUNeuron(4), ReLUNeuron(4)], Layer of [LinearNeuron(4)]]\n",
      "number of parameters 117\n"
     ]
    }
   ],
   "source": [
    "# initialize a model \n",
    "model = SparseMLP(2, [16, 16, 1], [0.8]*3) # 2-layer neural network\n",
    "print(model)\n",
    "print(\"number of parameters\", len(model.parameters()))"
   ]
  },
  {
   "cell_type": "code",
   "execution_count": 27,
   "metadata": {},
   "outputs": [
    {
     "name": "stdout",
     "output_type": "stream",
     "text": [
      "step 0 loss 0.9997557727304812, accuracy 73.0%\n",
      "step 10 loss 0.9937546224113598, accuracy 67.0%\n",
      "step 20 loss 0.7666823249680883, accuracy 73.0%\n",
      "step 30 loss 0.6078497770807276, accuracy 66.0%\n",
      "step 40 loss 0.5965460898918176, accuracy 66.0%\n",
      "step 50 loss 0.5945907012524915, accuracy 66.0%\n",
      "step 60 loss 0.592033775607312, accuracy 66.0%\n",
      "step 70 loss 0.5908906863963095, accuracy 67.0%\n",
      "step 80 loss 0.5868539814745729, accuracy 66.0%\n",
      "step 90 loss 0.5842953217923167, accuracy 71.0%\n",
      "step 100 loss 0.5823271844830642, accuracy 71.0%\n",
      "step 110 loss 0.5781990234262636, accuracy 72.0%\n",
      "step 120 loss 0.5744694406032917, accuracy 73.0%\n",
      "step 130 loss 0.5696349317122807, accuracy 73.0%\n",
      "step 140 loss 0.5659029089641983, accuracy 73.0%\n",
      "step 150 loss 0.5621051276302161, accuracy 73.0%\n",
      "step 160 loss 0.5596968923908787, accuracy 73.0%\n",
      "step 170 loss 0.556277712483224, accuracy 73.0%\n",
      "step 180 loss 0.5518287638199755, accuracy 73.0%\n",
      "step 190 loss 0.5463636686423629, accuracy 74.0%\n",
      "step 200 loss 0.5422332975817247, accuracy 74.0%\n",
      "step 210 loss 0.5392823223644508, accuracy 74.0%\n",
      "step 220 loss 0.5379837874449916, accuracy 74.0%\n",
      "step 230 loss 0.5360053693466, accuracy 74.0%\n",
      "step 240 loss 0.5367143877362085, accuracy 74.0%\n",
      "step 250 loss 0.5364200264354423, accuracy 74.0%\n",
      "step 260 loss 0.5327761975267217, accuracy 74.0%\n",
      "step 270 loss 0.5298116097578729, accuracy 74.0%\n",
      "step 280 loss 0.5273286521747972, accuracy 74.0%\n",
      "step 290 loss 0.5379331178816422, accuracy 74.0%\n",
      "step 300 loss 0.52901667932302, accuracy 74.0%\n",
      "step 310 loss 0.5270726835241134, accuracy 74.0%\n",
      "step 320 loss 0.5284290364268651, accuracy 74.0%\n",
      "step 330 loss 0.526659721268959, accuracy 74.0%\n",
      "step 340 loss 0.5264333092224638, accuracy 74.0%\n",
      "step 350 loss 0.5255366755714319, accuracy 74.0%\n",
      "step 360 loss 0.5267250626608297, accuracy 74.0%\n",
      "step 370 loss 0.5254158943884856, accuracy 74.0%\n",
      "step 380 loss 0.5244113999467014, accuracy 74.0%\n",
      "step 390 loss 0.5241454146242145, accuracy 74.0%\n",
      "411.91889476776123\n"
     ]
    }
   ],
   "source": [
    "# optimization\n",
    "import time \n",
    "start_time = time.time()\n",
    "# optimization\n",
    "N_TOTAL=400\n",
    "for k in range(400):\n",
    "    \n",
    "    # forward\n",
    "    total_loss, acc = loss(model)\n",
    "    \n",
    "    # backward\n",
    "    model.zero_grad()\n",
    "    total_loss.backward()\n",
    "    \n",
    "    # update (sgd)\n",
    "    learning_rate = 1 - 0.9*k/N_TOTAL\n",
    "    for p in model.parameters():\n",
    "        p.data -= learning_rate * p.grad.data\n",
    "\n",
    "    if k % 10 == 0:\n",
    "        print(f\"step {k} loss {total_loss.data}, accuracy {acc*100}%\")\n",
    "#         if k != 0: rigl_update_model(model, update_fraction=learning_rate*0.4)\n",
    "print(time.time()-start_time)"
   ]
  },
  {
   "cell_type": "code",
   "execution_count": 44,
   "metadata": {},
   "outputs": [
    {
     "data": {
      "text/plain": [
       "(-1.548639298268643, 1.951360701731357)"
      ]
     },
     "execution_count": 44,
     "metadata": {},
     "output_type": "execute_result"
    },
    {
     "data": {
      "image/png": "[encoded data removed]",
      "text/plain": [
       "<Figure size 432x288 with 1 Axes>"
      ]
     },
     "metadata": {
      "needs_background": "light"
     },
     "output_type": "display_data"
    }
   ],
   "source": [
    "# visualize decision boundary\n",
    "\n",
    "h = 0.25\n",
    "x_min, x_max = X[:, 0].min() - 1, X[:, 0].max() + 1\n",
    "y_min, y_max = X[:, 1].min() - 1, X[:, 1].max() + 1\n",
    "xx, yy = np.meshgrid(np.arange(x_min, x_max, h),\n",
    "                     np.arange(y_min, y_max, h))\n",
    "Xmesh = np.c_[xx.ravel(), yy.ravel()]\n",
    "inputs = [list(map(Value, xrow)) for xrow in Xmesh]\n",
    "scores = list(map(model, inputs))\n",
    "Z = np.array([s.data > 0 for s in scores])\n",
    "Z = Z.reshape(xx.shape)\n",
    "\n",
    "fig = plt.figure()\n",
    "plt.contourf(xx, yy, Z, cmap=plt.cm.Spectral, alpha=0.8)\n",
    "plt.scatter(X[:, 0], X[:, 1], c=y, s=40, cmap=plt.cm.Spectral)\n",
    "plt.xlim(xx.min(), xx.max())\n",
    "plt.ylim(yy.min(), yy.max())\n"
   ]
  },
  {
   "cell_type": "code",
   "execution_count": null,
   "metadata": {},
   "outputs": [],
   "source": []
  }
 ],
 "metadata": {
  "kernelspec": {
   "display_name": "Python 3",
   "language": "python",
   "name": "python3"
  },
  "language_info": {
   "codemirror_mode": {
    "name": "ipython",
    "version": 3
   },
   "file_extension": ".py",
   "mimetype": "text/x-python",
   "name": "python",
   "nbconvert_exporter": "python",
   "pygments_lexer": "ipython3",
   "version": "3.7.7"
  }
 },
 "nbformat": 4,
 "nbformat_minor": 2
}
